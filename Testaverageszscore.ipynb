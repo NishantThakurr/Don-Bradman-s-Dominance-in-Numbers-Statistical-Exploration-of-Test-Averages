{
 "cells": [
  {
   "cell_type": "code",
   "execution_count": 154,
   "id": "b6db4a57",
   "metadata": {},
   "outputs": [],
   "source": [
    "import pandas as pd\n",
    "import numpy as np"
   ]
  },
  {
   "cell_type": "code",
   "execution_count": 155,
   "id": "97b89485",
   "metadata": {},
   "outputs": [
    {
     "name": "stderr",
     "output_type": "stream",
     "text": [
      "C:\\Users\\91701\\AppData\\Local\\Temp\\ipykernel_18760\\2017227115.py:2: DtypeWarning: Columns (2,18,20,21,22,27) have mixed types. Specify dtype option on import or set low_memory=False.\n",
      "  data_20=pd.read_csv(\"Men Test Player Innings Stats - 20th Century.csv\")\n"
     ]
    }
   ],
   "source": [
    "data_19=pd.read_csv(\"Men Test Player Innings Stats - 19th Century.csv\")\n",
    "data_20=pd.read_csv(\"Men Test Player Innings Stats - 20th Century.csv\")\n",
    "data_21=pd.read_csv(\"Men Test Player Innings Stats - 21st Century.csv\")"
   ]
  },
  {
   "cell_type": "code",
   "execution_count": 156,
   "id": "f77a9d08",
   "metadata": {},
   "outputs": [],
   "source": [
    "data_19['Century']='19th'\n",
    "data_20['Century']='20th'\n",
    "data_21['Century']='21st'"
   ]
  },
  {
   "cell_type": "code",
   "execution_count": 157,
   "id": "2045daaa",
   "metadata": {},
   "outputs": [],
   "source": [
    "data_main=pd.concat([data_19,data_20,data_21])"
   ]
  },
  {
   "cell_type": "code",
   "execution_count": 158,
   "id": "55dc89a9",
   "metadata": {},
   "outputs": [
    {
     "data": {
      "text/plain": [
       "139497"
      ]
     },
     "execution_count": 158,
     "metadata": {},
     "output_type": "execute_result"
    }
   ],
   "source": [
    "data_main.duplicated().sum()"
   ]
  },
  {
   "cell_type": "code",
   "execution_count": 159,
   "id": "593cdb39",
   "metadata": {},
   "outputs": [],
   "source": [
    "data_main = data_main.drop_duplicates()"
   ]
  },
  {
   "cell_type": "code",
   "execution_count": 160,
   "id": "13fb420e",
   "metadata": {},
   "outputs": [],
   "source": [
    "columns_to_convert=['Innings Runs Scored Num', 'Innings Batted Flag',\n",
    "       'Innings Not Out Flag', 'Innings Balls Faced',\n",
    "       'Innings Boundary Fours']\n",
    "data_main[columns_to_convert] = data_main[columns_to_convert].apply(pd.to_numeric, errors='coerce')"
   ]
  },
  {
   "cell_type": "code",
   "execution_count": 161,
   "id": "dda4d693",
   "metadata": {},
   "outputs": [],
   "source": [
    "Stats = data_main.groupby('Innings Player').agg({\n",
    "    'Innings Runs Scored Num': 'sum',\n",
    "    'Innings Batted Flag': 'sum',\n",
    "    'Innings Not Out Flag': 'sum',\n",
    "    'Innings Balls Faced': 'sum'\n",
    "}).reset_index()\n"
   ]
  },
  {
   "cell_type": "code",
   "execution_count": 162,
   "id": "6c471ee7",
   "metadata": {},
   "outputs": [],
   "source": [
    "Stats['Test Average']=Stats['Innings Runs Scored Num']/(Stats['Innings Batted Flag']-Stats['Innings Not Out Flag'])"
   ]
  },
  {
   "cell_type": "code",
   "execution_count": 163,
   "id": "b029c6e0",
   "metadata": {},
   "outputs": [],
   "source": [
    "Stats=Stats[(Stats['Test Average']>=20) & (Stats['Innings Balls Faced']>=1000)]"
   ]
  },
  {
   "cell_type": "code",
   "execution_count": null,
   "id": "74ebae85",
   "metadata": {},
   "outputs": [],
   "source": []
  },
  {
   "cell_type": "code",
   "execution_count": 175,
   "id": "523ec7d9",
   "metadata": {},
   "outputs": [
    {
     "data": {
      "text/plain": [
       "35.44343735169499"
      ]
     },
     "execution_count": 175,
     "metadata": {},
     "output_type": "execute_result"
    }
   ],
   "source": []
  },
  {
   "cell_type": "code",
   "execution_count": 165,
   "id": "42b7516d",
   "metadata": {},
   "outputs": [],
   "source": [
    "import seaborn as sns\n",
    "import matplotlib.pyplot as plt"
   ]
  },
  {
   "cell_type": "code",
   "execution_count": 166,
   "id": "0783b2d0",
   "metadata": {},
   "outputs": [
    {
     "data": {
      "image/png": "[encoded data removed]",
      "text/plain": [
       "<Figure size 432x288 with 1 Axes>"
      ]
     },
     "metadata": {
      "needs_background": "light"
     },
     "output_type": "display_data"
    }
   ],
   "source": [
    "import seaborn as sns\n",
    "\n",
    "# Assuming 'data_main' is a pandas DataFrame and 'Avg Score' is a column in it\n",
    "avg_score = Stats['Test Average']\n",
    "\n",
    "# Plotting the KDE plot\n",
    "sns.kdeplot(data=avg_score)\n",
    "plt.xlabel('Test Average')\n",
    "plt.ylabel('Density')\n",
    "plt.title('Kernel Density Estimation of Average Score')\n",
    "plt.show()\n"
   ]
  },
  {
   "cell_type": "code",
   "execution_count": 181,
   "id": "8e863474",
   "metadata": {},
   "outputs": [
    {
     "data": {
      "application/vnd.plotly.v1+json": {
       "config": {
        "plotlyServerURL": "https://plot.ly"
       },
       "data": [
        {
         "boxmean": "sd",
         "boxpoints": "outliers",
         "line": {
          "color": "gray"
         },
         "marker": {
          "color": "skyblue"
         },
         "name": "Test Average",
         "type": "box",
         "y": [
          23,
          31.89075630252101,
          51.54838709677419,
          26.181818181818183,
          21.6,
          35.6993006993007,
          40.611111111111114,
          29.53846153846154,
          23.464285714285715,
          50.664739884393065,
          47.60683760683761,
          33.45,
          26.28440366972477,
          61.875,
          30.075757575757574,
          27.285714285714285,
          45.31060606060606,
          27.21904761904762,
          20.897058823529413,
          36.121212121212125,
          24.53846153846154,
          41.64772727272727,
          44.27272727272727,
          44.43434343434343,
          26.20689655172414,
          36.093023255813954,
          31.5,
          39.546728971962615,
          40.91279069767442,
          24.59259259259259,
          38.486486486486484,
          46.56060606060606,
          35.79710144927536,
          31.073529411764707,
          26.03125,
          26.848484848484848,
          42.88775510204081,
          31.558823529411764,
          45.35272727272727,
          34.88333333333333,
          38.92063492063492,
          33.91489361702128,
          32.75373134328358,
          50.56108597285068,
          46.48684210526316,
          35.1,
          40.438202247191015,
          35.3125,
          35.2875,
          28.61764705882353,
          24.625,
          20.785714285714285,
          40.916666666666664,
          22.766666666666666,
          21.2,
          39.256410256410255,
          38.858695652173914,
          24.42105263157895,
          37.73684210526316,
          42.58273381294964,
          30,
          22.08,
          20.15277777777778,
          21.61904761904762,
          30.59375,
          22.93103448275862,
          36.54054054054054,
          31.78125,
          38.64071856287425,
          42.214285714285715,
          39.54761904761905,
          53.17857142857143,
          32.22429906542056,
          43.111111111111114,
          30.2,
          32.98989898989899,
          38.50526315789474,
          36.97530864197531,
          40.064516129032256,
          35.28947368421053,
          39.36,
          33.42424242424242,
          35.43103448275862,
          36.05555555555556,
          45.1219512195122,
          26.8125,
          37.421052631578945,
          42.81666666666667,
          24.46511627906977,
          37.03125,
          48.666666666666664,
          22.408163265306122,
          45.06944444444444,
          23.020833333333332,
          39.32911392405063,
          25.941176470588236,
          38.46913580246913,
          52.266666666666666,
          44.72189349112426,
          42.187134502923975,
          46.67701863354037,
          32.523809523809526,
          35.41935483870968,
          32.5,
          42.87234042553192,
          33.535353535353536,
          36.46835443037975,
          30.153846153846153,
          26.34285714285714,
          31.575757575757574,
          35.529411764705884,
          26.75,
          26.235294117647058,
          48.1,
          22.975,
          20.44736842105263,
          28.666666666666668,
          38.495049504950494,
          25.714285714285715,
          42.46153846153846,
          25.875,
          48.945945945945944,
          25.34285714285714,
          42.13496932515337,
          43.65882352941176,
          50.060344827586206,
          22.685185185185187,
          99.94285714285714,
          29.625,
          44.25268817204301,
          31.428571428571427,
          44.213592233009706,
          27.846153846153847,
          20.2,
          23.516129032258064,
          24.267857142857142,
          21.688524590163933,
          46.30769230769231,
          42.29943502824859,
          43.05882352941177,
          22.908045977011493,
          30.153333333333332,
          37.69892473118279,
          46.55128205128205,
          35.15094339622642,
          20.689655172413794,
          49.848101265822784,
          25.95,
          48,
          46.37894736842105,
          44.95,
          23.783783783783782,
          42.0625,
          34.36842105263158,
          33.37837837837838,
          21.074074074074073,
          59.23076923076923,
          25.428571428571427,
          47.63513513513514,
          45.74545454545454,
          30.434782608695652,
          31.28125,
          47.8936170212766,
          39.80612244897959,
          36.78048780487805,
          36.07692307692308,
          22.29230769230769,
          31.083333333333332,
          26.761904761904763,
          47.72941176470588,
          35.32432432432432,
          41.95959595959596,
          40,
          45.27329192546584,
          25.80851063829787,
          40.7906976744186,
          42.58373205741627,
          31.324074074074073,
          48.7,
          36.8,
          28.93548387096774,
          22.733333333333334,
          29.426666666666666,
          35.208333333333336,
          44.64179104477612,
          31.830188679245282,
          41.134328358208954,
          23.918367346938776,
          24.193548387096776,
          32.44871794871795,
          22.096774193548388,
          44.66225165562914,
          33.18604651162791,
          41.93103448275862,
          41.08888888888889,
          30.714285714285715,
          37.45,
          34.026666666666664,
          53.86363636363637,
          57.78417266187051,
          31.16216216216216,
          29.54700854700855,
          30.04054054054054,
          60.733333333333334,
          20.90625,
          39.6375,
          29.5,
          26.964285714285715,
          22.64516129032258,
          30.140350877192983,
          41.95238095238095,
          22.359550561797754,
          38.35294117647059,
          45.06666666666667,
          46.64321608040201,
          39.70454545454545,
          42.87735849056604,
          30.877551020408163,
          43.98876404494382,
          20.060606060606062,
          37.22727272727273,
          34.77142857142857,
          27.39622641509434,
          26.615384615384617,
          25.56338028169014,
          44.08045977011494,
          31.571428571428573,
          42.42063492063492,
          42.69060773480663,
          43.45871559633027,
          33.54838709677419,
          50.23529411764706,
          37.67045454545455,
          25.526315789473685,
          32,
          35.398148148148145,
          24.283783783783782,
          50.16477272727273,
          26.035714285714285,
          30.266666666666666,
          26.647058823529413,
          46.74285714285714,
          51.629629629629626,
          38.30555555555556,
          30.07894736842105,
          35.432432432432435,
          56.94736842105263,
          41.26027397260274,
          31.746268656716417,
          40.935483870967744,
          36.326530612244895,
          33.76190476190476,
          22.539473684210527,
          48.40127388535032,
          20.71794871794872,
          46.285714285714285,
          22.620689655172413,
          20.428571428571427,
          37.829787234042556,
          43.54237288135593,
          55.25523012552301,
          42.464285714285715,
          26.24590163934426,
          28.364864864864863,
          30,
          45.27058823529412,
          34.741379310344826,
          22.88888888888889,
          22.705882352941178,
          24.557377049180328,
          32.16393442622951,
          35.607142857142854,
          24.90909090909091,
          35.66197183098591,
          32.724137931034484,
          34.61538461538461,
          30.47142857142857,
          22.390243902439025,
          25.21875,
          37.57746478873239,
          26,
          29.151515151515152,
          52.57142857142857,
          22.05128205128205,
          26.18918918918919,
          29.884057971014492,
          31.806451612903224,
          49.088235294117645,
          33.2952380952381,
          57.407407407407405,
          41,
          21.232558139534884,
          25,
          33.48888888888889,
          48.26126126126126,
          58.672413793103445,
          37.41525423728814,
          25.76,
          21.48936170212766,
          25.193548387096776,
          34.58620689655172,
          30.711111111111112,
          26.813333333333333,
          47.28901734104046,
          36.975,
          27.087912087912088,
          37.42666666666667,
          25.7,
          50.99212598425197,
          39.90243902439025,
          30.790697674418606,
          28.17241379310345,
          56.67479674796748,
          32.86206896551724,
          34.15384615384615,
          40.810526315789474,
          40.56666666666667,
          43.5531914893617,
          31.642857142857142,
          46.10191082802548,
          26.03030303030303,
          42.50485436893204,
          45.03623188405797,
          32.8421052631579,
          63.43478260869565,
          46.06666666666667,
          32.6530612244898,
          38.28846153846154,
          57.294117647058826,
          37.697560975609754,
          34.58064516129032,
          22.279411764705884,
          43.49710982658959,
          34.9125,
          44.06936416184971,
          24.3,
          36.8125,
          45.36666666666667,
          28.4375,
          27.68421052631579,
          31.133333333333333,
          43.796992481203006,
          41.817708333333336,
          51.52892561983471,
          29.074074074074073,
          31.209302325581394,
          22.204301075268816,
          36.903225806451616,
          39.69047619047619,
          44.774193548387096,
          49.10795454545455,
          30.62121212121212,
          29.386363636363637,
          28.38095238095238,
          35.484848484848484,
          40.18627450980392,
          25.551724137931036,
          42.83870967741935,
          31.63888888888889,
          50.73529411764706,
          28.979166666666668,
          32.641666666666666,
          21.37037037037037,
          41.44202898550725,
          25.2,
          27.325581395348838,
          39.02127659574468,
          38.09375,
          32.05882352941177,
          31.304347826086957,
          33.473684210526315,
          33.48571428571429,
          30.544444444444444,
          35.556451612903224,
          42.84848484848485,
          31.770114942528735,
          38.92079207920792,
          25.192307692307693,
          46.625,
          24.00877192982456,
          37.649484536082475,
          30.115384615384617,
          52.291666666666664,
          37.10958904109589,
          28.552083333333332,
          40.857142857142854,
          38.092592592592595,
          36.775,
          39.17204301075269,
          25.23076923076923,
          25.892857142857142,
          30.983870967741936,
          37.18709677419355,
          31.05325443786982,
          24.181818181818183,
          45.557377049180324,
          37.39080459770115,
          37.023622047244096,
          24.033333333333335,
          28.703703703703702,
          42.13157894736842,
          32.58181818181818,
          23.966666666666665,
          32,
          23.545454545454547,
          34.8,
          26.90909090909091,
          47.473684210526315,
          31.133333333333333,
          27.06451612903226,
          42.979729729729726,
          46.77319587628866,
          40.56190476190476,
          25.44736842105263,
          40.91304347826087,
          32.659574468085104,
          35.53333333333333,
          46.23529411764706,
          31.942307692307693,
          38.166666666666664,
          42.5,
          28.5,
          26.9375,
          22.285714285714285,
          31.892857142857142,
          31.3,
          26.52777777777778,
          24.15,
          38.916666666666664,
          22.266666666666666,
          39.12,
          36.63414634146341,
          28.105882352941176,
          24.455555555555556,
          52.638888888888886,
          40.37931034482759,
          23.240506329113924,
          35.264150943396224,
          43.670103092783506,
          33.09375,
          47.534351145038165,
          39.5609756097561,
          44.3955223880597,
          46.81730769230769,
          42.490196078431374,
          27.1,
          28.318681318681318,
          31.70689655172414,
          60.972972972972975,
          46.54347826086956,
          25.12,
          33.758620689655174,
          35.794392523364486,
          31.38888888888889,
          36.714285714285715,
          46.84090909090909,
          23.055555555555557,
          48.41732283464567,
          21.041666666666668,
          28.015384615384615,
          38.76190476190476,
          40.013698630136986,
          31.944444444444443,
          26.12162162162162,
          29.4,
          29.272727272727273,
          22.03846153846154,
          51.85271317829457,
          36.38636363636363,
          35.595238095238095,
          25.1875,
          26.51824817518248,
          31,
          25.931818181818183,
          31.831460674157302,
          28.770833333333332,
          51.37229437229437,
          40.6140350877193,
          22.652173913043477,
          37.97222222222222,
          33.1875,
          29.071428571428573,
          30.903225806451612,
          29.375,
          36.04545454545455,
          33.26315789473684,
          42.175438596491226,
          27.125,
          27.236363636363638,
          34.31818181818182,
          63.05882352941177,
          48.21052631578947,
          26.482758620689655,
          32.38202247191011,
          27.346153846153847,
          51.121212121212125,
          45.03225806451613,
          47.60377358490566,
          36.93023255813954,
          32.31623931623932,
          35.69565217391305,
          27.04901960784314,
          30.083333333333332,
          27.933333333333334,
          40.06703910614525,
          62.84347826086957,
          53.78716216216216,
          35.198113207547166,
          51.0607476635514,
          34.89473684210526,
          40.07471264367816,
          26.916666666666668,
          37.14545454545455,
          35.81944444444444,
          45.52808988764045,
          43.696969696969695,
          27.05128205128205,
          30.467741935483872,
          31.583333333333332,
          36.397260273972606,
          36.51063829787234,
          26.395833333333332,
          39.40816326530612,
          31.289473684210527,
          35.148148148148145,
          44.34426229508197,
          34.56666666666667,
          27.16521739130435,
          29.214285714285715,
          30.75,
          30.313725490196077,
          31.666666666666668,
          29.74025974025974,
          26.823529411764707,
          27.548387096774192,
          23,
          29.8,
          34.465753424657535,
          40.985074626865675,
          41.96153846153846,
          29.285714285714285,
          21.864864864864863,
          31.26923076923077,
          26.136363636363637,
          48.767857142857146,
          44.38181818181818,
          42.34090909090909,
          38.64035087719298,
          62.625,
          37.98717948717949,
          29.627906976744185,
          26.782608695652176,
          40.66197183098591,
          35.82142857142857,
          53.629629629629626,
          24.346153846153847,
          49.43604651162791,
          21.107142857142858,
          24.04054054054054,
          54.2,
          47.65217391304348,
          37.84375,
          39.04938271604938,
          45.973821989528794,
          23.533333333333335,
          40.47540983606557,
          34.10526315789474,
          20.541666666666668,
          30.194805194805195,
          46.8235294117647,
          22.650793650793652,
          32.28260869565217,
          48.22727272727273,
          36.411764705882355,
          40,
          31.310344827586206,
          26.807692307692307,
          47.153153153153156,
          46,
          30.195121951219512,
          24.322834645669293,
          58.45967741935484,
          31.89090909090909,
          24.88888888888889,
          38.689189189189186,
          33.0126582278481,
          22.640625,
          36.166666666666664,
          33.458333333333336,
          32.41304347826087,
          52.05670103092783,
          33.92857142857143,
          44.796460176991154
         ]
        }
       ],
       "layout": {
        "template": {
         "data": {
          "bar": [
           {
            "error_x": {
             "color": "#2a3f5f"
            },
            "error_y": {
             "color": "#2a3f5f"
            },
            "marker": {
             "line": {
              "color": "#E5ECF6",
              "width": 0.5
             },
             "pattern": {
              "fillmode": "overlay",
              "size": 10,
              "solidity": 0.2
             }
            },
            "type": "bar"
           }
          ],
          "barpolar": [
           {
            "marker": {
             "line": {
              "color": "#E5ECF6",
              "width": 0.5
             },
             "pattern": {
              "fillmode": "overlay",
              "size": 10,
              "solidity": 0.2
             }
            },
            "type": "barpolar"
           }
          ],
          "carpet": [
           {
            "aaxis": {
             "endlinecolor": "#2a3f5f",
             "gridcolor": "white",
             "linecolor": "white",
             "minorgridcolor": "white",
             "startlinecolor": "#2a3f5f"
            },
            "baxis": {
             "endlinecolor": "#2a3f5f",
             "gridcolor": "white",
             "linecolor": "white",
             "minorgridcolor": "white",
             "startlinecolor": "#2a3f5f"
            },
            "type": "carpet"
           }
          ],
          "choropleth": [
           {
            "colorbar": {
             "outlinewidth": 0,
             "ticks": ""
            },
            "type": "choropleth"
           }
          ],
          "contour": [
           {
            "colorbar": {
             "outlinewidth": 0,
             "ticks": ""
            },
            "colorscale": [
             [
              0,
              "#0d0887"
             ],
             [
              0.1111111111111111,
              "#46039f"
             ],
             [
              0.2222222222222222,
              "#7201a8"
             ],
             [
              0.3333333333333333,
              "#9c179e"
             ],
             [
              0.4444444444444444,
              "#bd3786"
             ],
             [
              0.5555555555555556,
              "#d8576b"
             ],
             [
              0.6666666666666666,
              "#ed7953"
             ],
             [
              0.7777777777777778,
              "#fb9f3a"
             ],
             [
              0.8888888888888888,
              "#fdca26"
             ],
             [
              1,
              "#f0f921"
             ]
            ],
            "type": "contour"
           }
          ],
          "contourcarpet": [
           {
            "colorbar": {
             "outlinewidth": 0,
             "ticks": ""
            },
            "type": "contourcarpet"
           }
          ],
          "heatmap": [
           {
            "colorbar": {
             "outlinewidth": 0,
             "ticks": ""
            },
            "colorscale": [
             [
              0,
              "#0d0887"
             ],
             [
              0.1111111111111111,
              "#46039f"
             ],
             [
              0.2222222222222222,
              "#7201a8"
             ],
             [
              0.3333333333333333,
              "#9c179e"
             ],
             [
              0.4444444444444444,
              "#bd3786"
             ],
             [
              0.5555555555555556,
              "#d8576b"
             ],
             [
              0.6666666666666666,
              "#ed7953"
             ],
             [
              0.7777777777777778,
              "#fb9f3a"
             ],
             [
              0.8888888888888888,
              "#fdca26"
             ],
             [
              1,
              "#f0f921"
             ]
            ],
            "type": "heatmap"
           }
          ],
          "heatmapgl": [
           {
            "colorbar": {
             "outlinewidth": 0,
             "ticks": ""
            },
            "colorscale": [
             [
              0,
              "#0d0887"
             ],
             [
              0.1111111111111111,
              "#46039f"
             ],
             [
              0.2222222222222222,
              "#7201a8"
             ],
             [
              0.3333333333333333,
              "#9c179e"
             ],
             [
              0.4444444444444444,
              "#bd3786"
             ],
             [
              0.5555555555555556,
              "#d8576b"
             ],
             [
              0.6666666666666666,
              "#ed7953"
             ],
             [
              0.7777777777777778,
              "#fb9f3a"
             ],
             [
              0.8888888888888888,
              "#fdca26"
             ],
             [
              1,
              "#f0f921"
             ]
            ],
            "type": "heatmapgl"
           }
          ],
          "histogram": [
           {
            "marker": {
             "pattern": {
              "fillmode": "overlay",
              "size": 10,
              "solidity": 0.2
             }
            },
            "type": "histogram"
           }
          ],
          "histogram2d": [
           {
            "colorbar": {
             "outlinewidth": 0,
             "ticks": ""
            },
            "colorscale": [
             [
              0,
              "#0d0887"
             ],
             [
              0.1111111111111111,
              "#46039f"
             ],
             [
              0.2222222222222222,
              "#7201a8"
             ],
             [
              0.3333333333333333,
              "#9c179e"
             ],
             [
              0.4444444444444444,
              "#bd3786"
             ],
             [
              0.5555555555555556,
              "#d8576b"
             ],
             [
              0.6666666666666666,
              "#ed7953"
             ],
             [
              0.7777777777777778,
              "#fb9f3a"
             ],
             [
              0.8888888888888888,
              "#fdca26"
             ],
             [
              1,
              "#f0f921"
             ]
            ],
            "type": "histogram2d"
           }
          ],
          "histogram2dcontour": [
           {
            "colorbar": {
             "outlinewidth": 0,
             "ticks": ""
            },
            "colorscale": [
             [
              0,
              "#0d0887"
             ],
             [
              0.1111111111111111,
              "#46039f"
             ],
             [
              0.2222222222222222,
              "#7201a8"
             ],
             [
              0.3333333333333333,
              "#9c179e"
             ],
             [
              0.4444444444444444,
              "#bd3786"
             ],
             [
              0.5555555555555556,
              "#d8576b"
             ],
             [
              0.6666666666666666,
              "#ed7953"
             ],
             [
              0.7777777777777778,
              "#fb9f3a"
             ],
             [
              0.8888888888888888,
              "#fdca26"
             ],
             [
              1,
              "#f0f921"
             ]
            ],
            "type": "histogram2dcontour"
           }
          ],
          "mesh3d": [
           {
            "colorbar": {
             "outlinewidth": 0,
             "ticks": ""
            },
            "type": "mesh3d"
           }
          ],
          "parcoords": [
           {
            "line": {
             "colorbar": {
              "outlinewidth": 0,
              "ticks": ""
             }
            },
            "type": "parcoords"
           }
          ],
          "pie": [
           {
            "automargin": true,
            "type": "pie"
           }
          ],
          "scatter": [
           {
            "marker": {
             "colorbar": {
              "outlinewidth": 0,
              "ticks": ""
             }
            },
            "type": "scatter"
           }
          ],
          "scatter3d": [
           {
            "line": {
             "colorbar": {
              "outlinewidth": 0,
              "ticks": ""
             }
            },
            "marker": {
             "colorbar": {
              "outlinewidth": 0,
              "ticks": ""
             }
            },
            "type": "scatter3d"
           }
          ],
          "scattercarpet": [
           {
            "marker": {
             "colorbar": {
              "outlinewidth": 0,
              "ticks": ""
             }
            },
            "type": "scattercarpet"
           }
          ],
          "scattergeo": [
           {
            "marker": {
             "colorbar": {
              "outlinewidth": 0,
              "ticks": ""
             }
            },
            "type": "scattergeo"
           }
          ],
          "scattergl": [
           {
            "marker": {
             "colorbar": {
              "outlinewidth": 0,
              "ticks": ""
             }
            },
            "type": "scattergl"
           }
          ],
          "scattermapbox": [
           {
            "marker": {
             "colorbar": {
              "outlinewidth": 0,
              "ticks": ""
             }
            },
            "type": "scattermapbox"
           }
          ],
          "scatterpolar": [
           {
            "marker": {
             "colorbar": {
              "outlinewidth": 0,
              "ticks": ""
             }
            },
            "type": "scatterpolar"
           }
          ],
          "scatterpolargl": [
           {
            "marker": {
             "colorbar": {
              "outlinewidth": 0,
              "ticks": ""
             }
            },
            "type": "scatterpolargl"
           }
          ],
          "scatterternary": [
           {
            "marker": {
             "colorbar": {
              "outlinewidth": 0,
              "ticks": ""
             }
            },
            "type": "scatterternary"
           }
          ],
          "surface": [
           {
            "colorbar": {
             "outlinewidth": 0,
             "ticks": ""
            },
            "colorscale": [
             [
              0,
              "#0d0887"
             ],
             [
              0.1111111111111111,
              "#46039f"
             ],
             [
              0.2222222222222222,
              "#7201a8"
             ],
             [
              0.3333333333333333,
              "#9c179e"
             ],
             [
              0.4444444444444444,
              "#bd3786"
             ],
             [
              0.5555555555555556,
              "#d8576b"
             ],
             [
              0.6666666666666666,
              "#ed7953"
             ],
             [
              0.7777777777777778,
              "#fb9f3a"
             ],
             [
              0.8888888888888888,
              "#fdca26"
             ],
             [
              1,
              "#f0f921"
             ]
            ],
            "type": "surface"
           }
          ],
          "table": [
           {
            "cells": {
             "fill": {
              "color": "#EBF0F8"
             },
             "line": {
              "color": "white"
             }
            },
            "header": {
             "fill": {
              "color": "#C8D4E3"
             },
             "line": {
              "color": "white"
             }
            },
            "type": "table"
           }
          ]
         },
         "layout": {
          "annotationdefaults": {
           "arrowcolor": "#2a3f5f",
           "arrowhead": 0,
           "arrowwidth": 1
          },
          "autotypenumbers": "strict",
          "coloraxis": {
           "colorbar": {
            "outlinewidth": 0,
            "ticks": ""
           }
          },
          "colorscale": {
           "diverging": [
            [
             0,
             "#8e0152"
            ],
            [
             0.1,
             "#c51b7d"
            ],
            [
             0.2,
             "#de77ae"
            ],
            [
             0.3,
             "#f1b6da"
            ],
            [
             0.4,
             "#fde0ef"
            ],
            [
             0.5,
             "#f7f7f7"
            ],
            [
             0.6,
             "#e6f5d0"
            ],
            [
             0.7,
             "#b8e186"
            ],
            [
             0.8,
             "#7fbc41"
            ],
            [
             0.9,
             "#4d9221"
            ],
            [
             1,
             "#276419"
            ]
           ],
           "sequential": [
            [
             0,
             "#0d0887"
            ],
            [
             0.1111111111111111,
             "#46039f"
            ],
            [
             0.2222222222222222,
             "#7201a8"
            ],
            [
             0.3333333333333333,
             "#9c179e"
            ],
            [
             0.4444444444444444,
             "#bd3786"
            ],
            [
             0.5555555555555556,
             "#d8576b"
            ],
            [
             0.6666666666666666,
             "#ed7953"
            ],
            [
             0.7777777777777778,
             "#fb9f3a"
            ],
            [
             0.8888888888888888,
             "#fdca26"
            ],
            [
             1,
             "#f0f921"
            ]
           ],
           "sequentialminus": [
            [
             0,
             "#0d0887"
            ],
            [
             0.1111111111111111,
             "#46039f"
            ],
            [
             0.2222222222222222,
             "#7201a8"
            ],
            [
             0.3333333333333333,
             "#9c179e"
            ],
            [
             0.4444444444444444,
             "#bd3786"
            ],
            [
             0.5555555555555556,
             "#d8576b"
            ],
            [
             0.6666666666666666,
             "#ed7953"
            ],
            [
             0.7777777777777778,
             "#fb9f3a"
            ],
            [
             0.8888888888888888,
             "#fdca26"
            ],
            [
             1,
             "#f0f921"
            ]
           ]
          },
          "colorway": [
           "#636efa",
           "#EF553B",
           "#00cc96",
           "#ab63fa",
           "#FFA15A",
           "#19d3f3",
           "#FF6692",
           "#B6E880",
           "#FF97FF",
           "#FECB52"
          ],
          "font": {
           "color": "#2a3f5f"
          },
          "geo": {
           "bgcolor": "white",
           "lakecolor": "white",
           "landcolor": "#E5ECF6",
           "showlakes": true,
           "showland": true,
           "subunitcolor": "white"
          },
          "hoverlabel": {
           "align": "left"
          },
          "hovermode": "closest",
          "mapbox": {
           "style": "light"
          },
          "paper_bgcolor": "white",
          "plot_bgcolor": "#E5ECF6",
          "polar": {
           "angularaxis": {
            "gridcolor": "white",
            "linecolor": "white",
            "ticks": ""
           },
           "bgcolor": "#E5ECF6",
           "radialaxis": {
            "gridcolor": "white",
            "linecolor": "white",
            "ticks": ""
           }
          },
          "scene": {
           "xaxis": {
            "backgroundcolor": "#E5ECF6",
            "gridcolor": "white",
            "gridwidth": 2,
            "linecolor": "white",
            "showbackground": true,
            "ticks": "",
            "zerolinecolor": "white"
           },
           "yaxis": {
            "backgroundcolor": "#E5ECF6",
            "gridcolor": "white",
            "gridwidth": 2,
            "linecolor": "white",
            "showbackground": true,
            "ticks": "",
            "zerolinecolor": "white"
           },
           "zaxis": {
            "backgroundcolor": "#E5ECF6",
            "gridcolor": "white",
            "gridwidth": 2,
            "linecolor": "white",
            "showbackground": true,
            "ticks": "",
            "zerolinecolor": "white"
           }
          },
          "shapedefaults": {
           "line": {
            "color": "#2a3f5f"
           }
          },
          "ternary": {
           "aaxis": {
            "gridcolor": "white",
            "linecolor": "white",
            "ticks": ""
           },
           "baxis": {
            "gridcolor": "white",
            "linecolor": "white",
            "ticks": ""
           },
           "bgcolor": "#E5ECF6",
           "caxis": {
            "gridcolor": "white",
            "linecolor": "white",
            "ticks": ""
           }
          },
          "title": {
           "x": 0.05
          },
          "xaxis": {
           "automargin": true,
           "gridcolor": "white",
           "linecolor": "white",
           "ticks": "",
           "title": {
            "standoff": 15
           },
           "zerolinecolor": "white",
           "zerolinewidth": 2
          },
          "yaxis": {
           "automargin": true,
           "gridcolor": "white",
           "linecolor": "white",
           "ticks": "",
           "title": {
            "standoff": 15
           },
           "zerolinecolor": "white",
           "zerolinewidth": 2
          }
         }
        },
        "title": {
         "text": "Boxplot of Average Scores"
        },
        "xaxis": {
         "showticklabels": false
        },
        "yaxis": {
         "title": {
          "text": "Score"
         }
        }
       }
      },
      "text/html": [
       "<div>                            <div id=\"34e0f5c9-ee48-457d-8237-379863bdd432\" class=\"plotly-graph-div\" style=\"height:525px; width:100%;\"></div>            <script type=\"text/javascript\">                require([\"plotly\"], function(Plotly) {                    window.PLOTLYENV=window.PLOTLYENV || {};                                    if (document.getElementById(\"34e0f5c9-ee48-457d-8237-379863bdd432\")) {                    Plotly.newPlot(                        \"34e0f5c9-ee48-457d-8237-379863bdd432\",                        [{\"boxmean\":\"sd\",\"boxpoints\":\"outliers\",\"line\":{\"color\":\"gray\"},\"marker\":{\"color\":\"skyblue\"},\"name\":\"Test Average\",\"y\":[23.0,31.89075630252101,51.54838709677419,26.181818181818183,21.6,35.6993006993007,40.611111111111114,29.53846153846154,23.464285714285715,50.664739884393065,47.60683760683761,33.45,26.28440366972477,61.875,30.075757575757574,27.285714285714285,45.31060606060606,27.21904761904762,20.897058823529413,36.121212121212125,24.53846153846154,41.64772727272727,44.27272727272727,44.43434343434343,26.20689655172414,36.093023255813954,31.5,39.546728971962615,40.91279069767442,24.59259259259259,38.486486486486484,46.56060606060606,35.79710144927536,31.073529411764707,26.03125,26.848484848484848,42.88775510204081,31.558823529411764,45.35272727272727,34.88333333333333,38.92063492063492,33.91489361702128,32.75373134328358,50.56108597285068,46.48684210526316,35.1,40.438202247191015,35.3125,35.2875,28.61764705882353,24.625,20.785714285714285,40.916666666666664,22.766666666666666,21.2,39.256410256410255,38.858695652173914,24.42105263157895,37.73684210526316,42.58273381294964,30.0,22.08,20.15277777777778,21.61904761904762,30.59375,22.93103448275862,36.54054054054054,31.78125,38.64071856287425,42.214285714285715,39.54761904761905,53.17857142857143,32.22429906542056,43.111111111111114,30.2,32.98989898989899,38.50526315789474,36.97530864197531,40.064516129032256,35.28947368421053,39.36,33.42424242424242,35.43103448275862,36.05555555555556,45.1219512195122,26.8125,37.421052631578945,42.81666666666667,24.46511627906977,37.03125,48.666666666666664,22.408163265306122,45.06944444444444,23.020833333333332,39.32911392405063,25.941176470588236,38.46913580246913,52.266666666666666,44.72189349112426,42.187134502923975,46.67701863354037,32.523809523809526,35.41935483870968,32.5,42.87234042553192,33.535353535353536,36.46835443037975,30.153846153846153,26.34285714285714,31.575757575757574,35.529411764705884,26.75,26.235294117647058,48.1,22.975,20.44736842105263,28.666666666666668,38.495049504950494,25.714285714285715,42.46153846153846,25.875,48.945945945945944,25.34285714285714,42.13496932515337,43.65882352941176,50.060344827586206,22.685185185185187,99.94285714285714,29.625,44.25268817204301,31.428571428571427,44.213592233009706,27.846153846153847,20.2,23.516129032258064,24.267857142857142,21.688524590163933,46.30769230769231,42.29943502824859,43.05882352941177,22.908045977011493,30.153333333333332,37.69892473118279,46.55128205128205,35.15094339622642,20.689655172413794,49.848101265822784,25.95,48.0,46.37894736842105,44.95,23.783783783783782,42.0625,34.36842105263158,33.37837837837838,21.074074074074073,59.23076923076923,25.428571428571427,47.63513513513514,45.74545454545454,30.434782608695652,31.28125,47.8936170212766,39.80612244897959,36.78048780487805,36.07692307692308,22.29230769230769,31.083333333333332,26.761904761904763,47.72941176470588,35.32432432432432,41.95959595959596,40.0,45.27329192546584,25.80851063829787,40.7906976744186,42.58373205741627,31.324074074074073,48.7,36.8,28.93548387096774,22.733333333333334,29.426666666666666,35.208333333333336,44.64179104477612,31.830188679245282,41.134328358208954,23.918367346938776,24.193548387096776,32.44871794871795,22.096774193548388,44.66225165562914,33.18604651162791,41.93103448275862,41.08888888888889,30.714285714285715,37.45,34.026666666666664,53.86363636363637,57.78417266187051,31.16216216216216,29.54700854700855,30.04054054054054,60.733333333333334,20.90625,39.6375,29.5,26.964285714285715,22.64516129032258,30.140350877192983,41.95238095238095,22.359550561797754,38.35294117647059,45.06666666666667,46.64321608040201,39.70454545454545,42.87735849056604,30.877551020408163,43.98876404494382,20.060606060606062,37.22727272727273,34.77142857142857,27.39622641509434,26.615384615384617,25.56338028169014,44.08045977011494,31.571428571428573,42.42063492063492,42.69060773480663,43.45871559633027,33.54838709677419,50.23529411764706,37.67045454545455,25.526315789473685,32.0,35.398148148148145,24.283783783783782,50.16477272727273,26.035714285714285,30.266666666666666,26.647058823529413,46.74285714285714,51.629629629629626,38.30555555555556,30.07894736842105,35.432432432432435,56.94736842105263,41.26027397260274,31.746268656716417,40.935483870967744,36.326530612244895,33.76190476190476,22.539473684210527,48.40127388535032,20.71794871794872,46.285714285714285,22.620689655172413,20.428571428571427,37.829787234042556,43.54237288135593,55.25523012552301,42.464285714285715,26.24590163934426,28.364864864864863,30.0,45.27058823529412,34.741379310344826,22.88888888888889,22.705882352941178,24.557377049180328,32.16393442622951,35.607142857142854,24.90909090909091,35.66197183098591,32.724137931034484,34.61538461538461,30.47142857142857,22.390243902439025,25.21875,37.57746478873239,26.0,29.151515151515152,52.57142857142857,22.05128205128205,26.18918918918919,29.884057971014492,31.806451612903224,49.088235294117645,33.2952380952381,57.407407407407405,41.0,21.232558139534884,25.0,33.48888888888889,48.26126126126126,58.672413793103445,37.41525423728814,25.76,21.48936170212766,25.193548387096776,34.58620689655172,30.711111111111112,26.813333333333333,47.28901734104046,36.975,27.087912087912088,37.42666666666667,25.7,50.99212598425197,39.90243902439025,30.790697674418606,28.17241379310345,56.67479674796748,32.86206896551724,34.15384615384615,40.810526315789474,40.56666666666667,43.5531914893617,31.642857142857142,46.10191082802548,26.03030303030303,42.50485436893204,45.03623188405797,32.8421052631579,63.43478260869565,46.06666666666667,32.6530612244898,38.28846153846154,57.294117647058826,37.697560975609754,34.58064516129032,22.279411764705884,43.49710982658959,34.9125,44.06936416184971,24.3,36.8125,45.36666666666667,28.4375,27.68421052631579,31.133333333333333,43.796992481203006,41.817708333333336,51.52892561983471,29.074074074074073,31.209302325581394,22.204301075268816,36.903225806451616,39.69047619047619,44.774193548387096,49.10795454545455,30.62121212121212,29.386363636363637,28.38095238095238,35.484848484848484,40.18627450980392,25.551724137931036,42.83870967741935,31.63888888888889,50.73529411764706,28.979166666666668,32.641666666666666,21.37037037037037,41.44202898550725,25.2,27.325581395348838,39.02127659574468,38.09375,32.05882352941177,31.304347826086957,33.473684210526315,33.48571428571429,30.544444444444444,35.556451612903224,42.84848484848485,31.770114942528735,38.92079207920792,25.192307692307693,46.625,24.00877192982456,37.649484536082475,30.115384615384617,52.291666666666664,37.10958904109589,28.552083333333332,40.857142857142854,38.092592592592595,36.775,39.17204301075269,25.23076923076923,25.892857142857142,30.983870967741936,37.18709677419355,31.05325443786982,24.181818181818183,45.557377049180324,37.39080459770115,37.023622047244096,24.033333333333335,28.703703703703702,42.13157894736842,32.58181818181818,23.966666666666665,32.0,23.545454545454547,34.8,26.90909090909091,47.473684210526315,31.133333333333333,27.06451612903226,42.979729729729726,46.77319587628866,40.56190476190476,25.44736842105263,40.91304347826087,32.659574468085104,35.53333333333333,46.23529411764706,31.942307692307693,38.166666666666664,42.5,28.5,26.9375,22.285714285714285,31.892857142857142,31.3,26.52777777777778,24.15,38.916666666666664,22.266666666666666,39.12,36.63414634146341,28.105882352941176,24.455555555555556,52.638888888888886,40.37931034482759,23.240506329113924,35.264150943396224,43.670103092783506,33.09375,47.534351145038165,39.5609756097561,44.3955223880597,46.81730769230769,42.490196078431374,27.1,28.318681318681318,31.70689655172414,60.972972972972975,46.54347826086956,25.12,33.758620689655174,35.794392523364486,31.38888888888889,36.714285714285715,46.84090909090909,23.055555555555557,48.41732283464567,21.041666666666668,28.015384615384615,38.76190476190476,40.013698630136986,31.944444444444443,26.12162162162162,29.4,29.272727272727273,22.03846153846154,51.85271317829457,36.38636363636363,35.595238095238095,25.1875,26.51824817518248,31.0,25.931818181818183,31.831460674157302,28.770833333333332,51.37229437229437,40.6140350877193,22.652173913043477,37.97222222222222,33.1875,29.071428571428573,30.903225806451612,29.375,36.04545454545455,33.26315789473684,42.175438596491226,27.125,27.236363636363638,34.31818181818182,63.05882352941177,48.21052631578947,26.482758620689655,32.38202247191011,27.346153846153847,51.121212121212125,45.03225806451613,47.60377358490566,36.93023255813954,32.31623931623932,35.69565217391305,27.04901960784314,30.083333333333332,27.933333333333334,40.06703910614525,62.84347826086957,53.78716216216216,35.198113207547166,51.0607476635514,34.89473684210526,40.07471264367816,26.916666666666668,37.14545454545455,35.81944444444444,45.52808988764045,43.696969696969695,27.05128205128205,30.467741935483872,31.583333333333332,36.397260273972606,36.51063829787234,26.395833333333332,39.40816326530612,31.289473684210527,35.148148148148145,44.34426229508197,34.56666666666667,27.16521739130435,29.214285714285715,30.75,30.313725490196077,31.666666666666668,29.74025974025974,26.823529411764707,27.548387096774192,23.0,29.8,34.465753424657535,40.985074626865675,41.96153846153846,29.285714285714285,21.864864864864863,31.26923076923077,26.136363636363637,48.767857142857146,44.38181818181818,42.34090909090909,38.64035087719298,62.625,37.98717948717949,29.627906976744185,26.782608695652176,40.66197183098591,35.82142857142857,53.629629629629626,24.346153846153847,49.43604651162791,21.107142857142858,24.04054054054054,54.2,47.65217391304348,37.84375,39.04938271604938,45.973821989528794,23.533333333333335,40.47540983606557,34.10526315789474,20.541666666666668,30.194805194805195,46.8235294117647,22.650793650793652,32.28260869565217,48.22727272727273,36.411764705882355,40.0,31.310344827586206,26.807692307692307,47.153153153153156,46.0,30.195121951219512,24.322834645669293,58.45967741935484,31.89090909090909,24.88888888888889,38.689189189189186,33.0126582278481,22.640625,36.166666666666664,33.458333333333336,32.41304347826087,52.05670103092783,33.92857142857143,44.796460176991154],\"type\":\"box\"}],                        {\"template\":{\"data\":{\"bar\":[{\"error_x\":{\"color\":\"#2a3f5f\"},\"error_y\":{\"color\":\"#2a3f5f\"},\"marker\":{\"line\":{\"color\":\"#E5ECF6\",\"width\":0.5},\"pattern\":{\"fillmode\":\"overlay\",\"size\":10,\"solidity\":0.2}},\"type\":\"bar\"}],\"barpolar\":[{\"marker\":{\"line\":{\"color\":\"#E5ECF6\",\"width\":0.5},\"pattern\":{\"fillmode\":\"overlay\",\"size\":10,\"solidity\":0.2}},\"type\":\"barpolar\"}],\"carpet\":[{\"aaxis\":{\"endlinecolor\":\"#2a3f5f\",\"gridcolor\":\"white\",\"linecolor\":\"white\",\"minorgridcolor\":\"white\",\"startlinecolor\":\"#2a3f5f\"},\"baxis\":{\"endlinecolor\":\"#2a3f5f\",\"gridcolor\":\"white\",\"linecolor\":\"white\",\"minorgridcolor\":\"white\",\"startlinecolor\":\"#2a3f5f\"},\"type\":\"carpet\"}],\"choropleth\":[{\"colorbar\":{\"outlinewidth\":0,\"ticks\":\"\"},\"type\":\"choropleth\"}],\"contour\":[{\"colorbar\":{\"outlinewidth\":0,\"ticks\":\"\"},\"colorscale\":[[0.0,\"#0d0887\"],[0.1111111111111111,\"#46039f\"],[0.2222222222222222,\"#7201a8\"],[0.3333333333333333,\"#9c179e\"],[0.4444444444444444,\"#bd3786\"],[0.5555555555555556,\"#d8576b\"],[0.6666666666666666,\"#ed7953\"],[0.7777777777777778,\"#fb9f3a\"],[0.8888888888888888,\"#fdca26\"],[1.0,\"#f0f921\"]],\"type\":\"contour\"}],\"contourcarpet\":[{\"colorbar\":{\"outlinewidth\":0,\"ticks\":\"\"},\"type\":\"contourcarpet\"}],\"heatmap\":[{\"colorbar\":{\"outlinewidth\":0,\"ticks\":\"\"},\"colorscale\":[[0.0,\"#0d0887\"],[0.1111111111111111,\"#46039f\"],[0.2222222222222222,\"#7201a8\"],[0.3333333333333333,\"#9c179e\"],[0.4444444444444444,\"#bd3786\"],[0.5555555555555556,\"#d8576b\"],[0.6666666666666666,\"#ed7953\"],[0.7777777777777778,\"#fb9f3a\"],[0.8888888888888888,\"#fdca26\"],[1.0,\"#f0f921\"]],\"type\":\"heatmap\"}],\"heatmapgl\":[{\"colorbar\":{\"outlinewidth\":0,\"ticks\":\"\"},\"colorscale\":[[0.0,\"#0d0887\"],[0.1111111111111111,\"#46039f\"],[0.2222222222222222,\"#7201a8\"],[0.3333333333333333,\"#9c179e\"],[0.4444444444444444,\"#bd3786\"],[0.5555555555555556,\"#d8576b\"],[0.6666666666666666,\"#ed7953\"],[0.7777777777777778,\"#fb9f3a\"],[0.8888888888888888,\"#fdca26\"],[1.0,\"#f0f921\"]],\"type\":\"heatmapgl\"}],\"histogram\":[{\"marker\":{\"pattern\":{\"fillmode\":\"overlay\",\"size\":10,\"solidity\":0.2}},\"type\":\"histogram\"}],\"histogram2d\":[{\"colorbar\":{\"outlinewidth\":0,\"ticks\":\"\"},\"colorscale\":[[0.0,\"#0d0887\"],[0.1111111111111111,\"#46039f\"],[0.2222222222222222,\"#7201a8\"],[0.3333333333333333,\"#9c179e\"],[0.4444444444444444,\"#bd3786\"],[0.5555555555555556,\"#d8576b\"],[0.6666666666666666,\"#ed7953\"],[0.7777777777777778,\"#fb9f3a\"],[0.8888888888888888,\"#fdca26\"],[1.0,\"#f0f921\"]],\"type\":\"histogram2d\"}],\"histogram2dcontour\":[{\"colorbar\":{\"outlinewidth\":0,\"ticks\":\"\"},\"colorscale\":[[0.0,\"#0d0887\"],[0.1111111111111111,\"#46039f\"],[0.2222222222222222,\"#7201a8\"],[0.3333333333333333,\"#9c179e\"],[0.4444444444444444,\"#bd3786\"],[0.5555555555555556,\"#d8576b\"],[0.6666666666666666,\"#ed7953\"],[0.7777777777777778,\"#fb9f3a\"],[0.8888888888888888,\"#fdca26\"],[1.0,\"#f0f921\"]],\"type\":\"histogram2dcontour\"}],\"mesh3d\":[{\"colorbar\":{\"outlinewidth\":0,\"ticks\":\"\"},\"type\":\"mesh3d\"}],\"parcoords\":[{\"line\":{\"colorbar\":{\"outlinewidth\":0,\"ticks\":\"\"}},\"type\":\"parcoords\"}],\"pie\":[{\"automargin\":true,\"type\":\"pie\"}],\"scatter\":[{\"marker\":{\"colorbar\":{\"outlinewidth\":0,\"ticks\":\"\"}},\"type\":\"scatter\"}],\"scatter3d\":[{\"line\":{\"colorbar\":{\"outlinewidth\":0,\"ticks\":\"\"}},\"marker\":{\"colorbar\":{\"outlinewidth\":0,\"ticks\":\"\"}},\"type\":\"scatter3d\"}],\"scattercarpet\":[{\"marker\":{\"colorbar\":{\"outlinewidth\":0,\"ticks\":\"\"}},\"type\":\"scattercarpet\"}],\"scattergeo\":[{\"marker\":{\"colorbar\":{\"outlinewidth\":0,\"ticks\":\"\"}},\"type\":\"scattergeo\"}],\"scattergl\":[{\"marker\":{\"colorbar\":{\"outlinewidth\":0,\"ticks\":\"\"}},\"type\":\"scattergl\"}],\"scattermapbox\":[{\"marker\":{\"colorbar\":{\"outlinewidth\":0,\"ticks\":\"\"}},\"type\":\"scattermapbox\"}],\"scatterpolar\":[{\"marker\":{\"colorbar\":{\"outlinewidth\":0,\"ticks\":\"\"}},\"type\":\"scatterpolar\"}],\"scatterpolargl\":[{\"marker\":{\"colorbar\":{\"outlinewidth\":0,\"ticks\":\"\"}},\"type\":\"scatterpolargl\"}],\"scatterternary\":[{\"marker\":{\"colorbar\":{\"outlinewidth\":0,\"ticks\":\"\"}},\"type\":\"scatterternary\"}],\"surface\":[{\"colorbar\":{\"outlinewidth\":0,\"ticks\":\"\"},\"colorscale\":[[0.0,\"#0d0887\"],[0.1111111111111111,\"#46039f\"],[0.2222222222222222,\"#7201a8\"],[0.3333333333333333,\"#9c179e\"],[0.4444444444444444,\"#bd3786\"],[0.5555555555555556,\"#d8576b\"],[0.6666666666666666,\"#ed7953\"],[0.7777777777777778,\"#fb9f3a\"],[0.8888888888888888,\"#fdca26\"],[1.0,\"#f0f921\"]],\"type\":\"surface\"}],\"table\":[{\"cells\":{\"fill\":{\"color\":\"#EBF0F8\"},\"line\":{\"color\":\"white\"}},\"header\":{\"fill\":{\"color\":\"#C8D4E3\"},\"line\":{\"color\":\"white\"}},\"type\":\"table\"}]},\"layout\":{\"annotationdefaults\":{\"arrowcolor\":\"#2a3f5f\",\"arrowhead\":0,\"arrowwidth\":1},\"autotypenumbers\":\"strict\",\"coloraxis\":{\"colorbar\":{\"outlinewidth\":0,\"ticks\":\"\"}},\"colorscale\":{\"diverging\":[[0,\"#8e0152\"],[0.1,\"#c51b7d\"],[0.2,\"#de77ae\"],[0.3,\"#f1b6da\"],[0.4,\"#fde0ef\"],[0.5,\"#f7f7f7\"],[0.6,\"#e6f5d0\"],[0.7,\"#b8e186\"],[0.8,\"#7fbc41\"],[0.9,\"#4d9221\"],[1,\"#276419\"]],\"sequential\":[[0.0,\"#0d0887\"],[0.1111111111111111,\"#46039f\"],[0.2222222222222222,\"#7201a8\"],[0.3333333333333333,\"#9c179e\"],[0.4444444444444444,\"#bd3786\"],[0.5555555555555556,\"#d8576b\"],[0.6666666666666666,\"#ed7953\"],[0.7777777777777778,\"#fb9f3a\"],[0.8888888888888888,\"#fdca26\"],[1.0,\"#f0f921\"]],\"sequentialminus\":[[0.0,\"#0d0887\"],[0.1111111111111111,\"#46039f\"],[0.2222222222222222,\"#7201a8\"],[0.3333333333333333,\"#9c179e\"],[0.4444444444444444,\"#bd3786\"],[0.5555555555555556,\"#d8576b\"],[0.6666666666666666,\"#ed7953\"],[0.7777777777777778,\"#fb9f3a\"],[0.8888888888888888,\"#fdca26\"],[1.0,\"#f0f921\"]]},\"colorway\":[\"#636efa\",\"#EF553B\",\"#00cc96\",\"#ab63fa\",\"#FFA15A\",\"#19d3f3\",\"#FF6692\",\"#B6E880\",\"#FF97FF\",\"#FECB52\"],\"font\":{\"color\":\"#2a3f5f\"},\"geo\":{\"bgcolor\":\"white\",\"lakecolor\":\"white\",\"landcolor\":\"#E5ECF6\",\"showlakes\":true,\"showland\":true,\"subunitcolor\":\"white\"},\"hoverlabel\":{\"align\":\"left\"},\"hovermode\":\"closest\",\"mapbox\":{\"style\":\"light\"},\"paper_bgcolor\":\"white\",\"plot_bgcolor\":\"#E5ECF6\",\"polar\":{\"angularaxis\":{\"gridcolor\":\"white\",\"linecolor\":\"white\",\"ticks\":\"\"},\"bgcolor\":\"#E5ECF6\",\"radialaxis\":{\"gridcolor\":\"white\",\"linecolor\":\"white\",\"ticks\":\"\"}},\"scene\":{\"xaxis\":{\"backgroundcolor\":\"#E5ECF6\",\"gridcolor\":\"white\",\"gridwidth\":2,\"linecolor\":\"white\",\"showbackground\":true,\"ticks\":\"\",\"zerolinecolor\":\"white\"},\"yaxis\":{\"backgroundcolor\":\"#E5ECF6\",\"gridcolor\":\"white\",\"gridwidth\":2,\"linecolor\":\"white\",\"showbackground\":true,\"ticks\":\"\",\"zerolinecolor\":\"white\"},\"zaxis\":{\"backgroundcolor\":\"#E5ECF6\",\"gridcolor\":\"white\",\"gridwidth\":2,\"linecolor\":\"white\",\"showbackground\":true,\"ticks\":\"\",\"zerolinecolor\":\"white\"}},\"shapedefaults\":{\"line\":{\"color\":\"#2a3f5f\"}},\"ternary\":{\"aaxis\":{\"gridcolor\":\"white\",\"linecolor\":\"white\",\"ticks\":\"\"},\"baxis\":{\"gridcolor\":\"white\",\"linecolor\":\"white\",\"ticks\":\"\"},\"bgcolor\":\"#E5ECF6\",\"caxis\":{\"gridcolor\":\"white\",\"linecolor\":\"white\",\"ticks\":\"\"}},\"title\":{\"x\":0.05},\"xaxis\":{\"automargin\":true,\"gridcolor\":\"white\",\"linecolor\":\"white\",\"ticks\":\"\",\"title\":{\"standoff\":15},\"zerolinecolor\":\"white\",\"zerolinewidth\":2},\"yaxis\":{\"automargin\":true,\"gridcolor\":\"white\",\"linecolor\":\"white\",\"ticks\":\"\",\"title\":{\"standoff\":15},\"zerolinecolor\":\"white\",\"zerolinewidth\":2}}},\"xaxis\":{\"showticklabels\":false},\"title\":{\"text\":\"Boxplot of Average Scores\"},\"yaxis\":{\"title\":{\"text\":\"Score\"}}},                        {\"responsive\": true}                    ).then(function(){\n",
       "                            \n",
       "var gd = document.getElementById('34e0f5c9-ee48-457d-8237-379863bdd432');\n",
       "var x = new MutationObserver(function (mutations, observer) {{\n",
       "        var display = window.getComputedStyle(gd).display;\n",
       "        if (!display || display === 'none') {{\n",
       "            console.log([gd, 'removed!']);\n",
       "            Plotly.purge(gd);\n",
       "            observer.disconnect();\n",
       "        }}\n",
       "}});\n",
       "\n",
       "// Listen for the removal of the full notebook cells\n",
       "var notebookContainer = gd.closest('#notebook-container');\n",
       "if (notebookContainer) {{\n",
       "    x.observe(notebookContainer, {childList: true});\n",
       "}}\n",
       "\n",
       "// Listen for the clearing of the current output cell\n",
       "var outputEl = gd.closest('.output');\n",
       "if (outputEl) {{\n",
       "    x.observe(outputEl, {childList: true});\n",
       "}}\n",
       "\n",
       "                        })                };                });            </script>        </div>"
      ]
     },
     "metadata": {},
     "output_type": "display_data"
    }
   ],
   "source": [
    "import plotly.express as px\n",
    "import plotly.graph_objects as go\n",
    "\n",
    "# Create the box plot using Plotly\n",
    "fig = go.Figure()\n",
    "\n",
    "fig.add_trace(go.Box(\n",
    "    y=Stats['Avg Score'],\n",
    "    name='Test Average',\n",
    "    boxpoints='outliers',\n",
    "    marker=dict(color='skyblue'),\n",
    "    line=dict(color='gray'),\n",
    "    boxmean='sd'\n",
    "))\n",
    "\n",
    "# Add outlier annotations\n",
    "outliers = Stats['Avg Score'][Stats['Avg Score'].apply(lambda x: x not in fig['data'][0]['y'])]\n",
    "for i, value in enumerate(outliers):\n",
    "    fig.add_annotation(\n",
    "        x=1,\n",
    "        y=value,\n",
    "        text=str(value),\n",
    "        showarrow=False,\n",
    "        font=dict(color='red'),\n",
    "    )\n",
    "\n",
    "# Set layout\n",
    "fig.update_layout(\n",
    "    title='Boxplot of Average Scores',\n",
    "    yaxis_title='Score',\n",
    "    xaxis=dict(showticklabels=False),\n",
    ")\n",
    "\n",
    "# Display the plot\n",
    "fig.show()\n"
   ]
  },
  {
   "cell_type": "code",
   "execution_count": 168,
   "id": "2f7be165",
   "metadata": {
    "scrolled": true
   },
   "outputs": [
    {
     "data": {
      "image/png": "[encoded data removed]",
      "text/plain": [
       "<Figure size 432x288 with 1 Axes>"
      ]
     },
     "metadata": {
      "needs_background": "light"
     },
     "output_type": "display_data"
    }
   ],
   "source": [
    "import scipy.stats as stats\n",
    "import matplotlib.pyplot as plt\n",
    "\n",
    "# Assuming 'Stats' is a pandas DataFrame and 'Avg Score' is a column in it\n",
    "avg_score = Stats['Avg Score']\n",
    "\n",
    "# Generating the Q-Q plot\n",
    "stats.probplot(avg_score, dist='norm', plot=plt)\n",
    "plt.xlabel('Theoretical Quantiles')\n",
    "plt.ylabel('Ordered Values')\n",
    "plt.title('Q-Q Plot of Average Score')\n",
    "plt.show()\n"
   ]
  },
  {
   "cell_type": "code",
   "execution_count": 184,
   "id": "731bc065",
   "metadata": {},
   "outputs": [],
   "source": [
    "Zscore=(Stats[Stats['Innings Player']=='DG Bradman']['Avg Score']-avg_score.mean())/avg_score.std()"
   ]
  },
  {
   "cell_type": "code",
   "execution_count": 185,
   "id": "d309d999",
   "metadata": {},
   "outputs": [
    {
     "data": {
      "text/plain": [
       "661    6.718867\n",
       "Name: Avg Score, dtype: float64"
      ]
     },
     "execution_count": 185,
     "metadata": {},
     "output_type": "execute_result"
    }
   ],
   "source": [
    "Zscore"
   ]
  },
  {
   "cell_type": "code",
   "execution_count": 187,
   "id": "02372268",
   "metadata": {},
   "outputs": [
    {
     "data": {
      "text/html": [
       "<div>\n",
       "<style scoped>\n",
       "    .dataframe tbody tr th:only-of-type {\n",
       "        vertical-align: middle;\n",
       "    }\n",
       "\n",
       "    .dataframe tbody tr th {\n",
       "        vertical-align: top;\n",
       "    }\n",
       "\n",
       "    .dataframe thead th {\n",
       "        text-align: right;\n",
       "    }\n",
       "</style>\n",
       "<table border=\"1\" class=\"dataframe\">\n",
       "  <thead>\n",
       "    <tr style=\"text-align: right;\">\n",
       "      <th></th>\n",
       "      <th>Innings Player</th>\n",
       "      <th>Innings Runs Scored Num</th>\n",
       "      <th>Innings Batted Flag</th>\n",
       "      <th>Innings Not Out Flag</th>\n",
       "      <th>Innings Balls Faced</th>\n",
       "      <th>Avg Score</th>\n",
       "    </tr>\n",
       "  </thead>\n",
       "  <tbody>\n",
       "    <tr>\n",
       "      <th>661</th>\n",
       "      <td>DG Bradman</td>\n",
       "      <td>6996.0</td>\n",
       "      <td>80.0</td>\n",
       "      <td>10.0</td>\n",
       "      <td>9800.0</td>\n",
       "      <td>99.942857</td>\n",
       "    </tr>\n",
       "    <tr>\n",
       "      <th>1735</th>\n",
       "      <td>M Labuschagne</td>\n",
       "      <td>1459.0</td>\n",
       "      <td>23.0</td>\n",
       "      <td>0.0</td>\n",
       "      <td>2581.0</td>\n",
       "      <td>63.434783</td>\n",
       "    </tr>\n",
       "    <tr>\n",
       "      <th>2511</th>\n",
       "      <td>SG Barnes</td>\n",
       "      <td>1072.0</td>\n",
       "      <td>19.0</td>\n",
       "      <td>2.0</td>\n",
       "      <td>1990.0</td>\n",
       "      <td>63.058824</td>\n",
       "    </tr>\n",
       "    <tr>\n",
       "      <th>2571</th>\n",
       "      <td>SPD Smith</td>\n",
       "      <td>7227.0</td>\n",
       "      <td>131.0</td>\n",
       "      <td>16.0</td>\n",
       "      <td>13068.0</td>\n",
       "      <td>62.843478</td>\n",
       "    </tr>\n",
       "    <tr>\n",
       "      <th>2771</th>\n",
       "      <td>Taslim Arif</td>\n",
       "      <td>501.0</td>\n",
       "      <td>10.0</td>\n",
       "      <td>2.0</td>\n",
       "      <td>1042.0</td>\n",
       "      <td>62.625000</td>\n",
       "    </tr>\n",
       "    <tr>\n",
       "      <th>...</th>\n",
       "      <td>...</td>\n",
       "      <td>...</td>\n",
       "      <td>...</td>\n",
       "      <td>...</td>\n",
       "      <td>...</td>\n",
       "      <td>...</td>\n",
       "    </tr>\n",
       "    <tr>\n",
       "      <th>597</th>\n",
       "      <td>CZ Harris</td>\n",
       "      <td>777.0</td>\n",
       "      <td>42.0</td>\n",
       "      <td>4.0</td>\n",
       "      <td>2305.0</td>\n",
       "      <td>20.447368</td>\n",
       "    </tr>\n",
       "    <tr>\n",
       "      <th>1400</th>\n",
       "      <td>JG Bracewell</td>\n",
       "      <td>1001.0</td>\n",
       "      <td>60.0</td>\n",
       "      <td>11.0</td>\n",
       "      <td>2503.0</td>\n",
       "      <td>20.428571</td>\n",
       "    </tr>\n",
       "    <tr>\n",
       "      <th>682</th>\n",
       "      <td>DJ Murray</td>\n",
       "      <td>303.0</td>\n",
       "      <td>16.0</td>\n",
       "      <td>1.0</td>\n",
       "      <td>1027.0</td>\n",
       "      <td>20.200000</td>\n",
       "    </tr>\n",
       "    <tr>\n",
       "      <th>313</th>\n",
       "      <td>B Lee</td>\n",
       "      <td>1451.0</td>\n",
       "      <td>90.0</td>\n",
       "      <td>18.0</td>\n",
       "      <td>2739.0</td>\n",
       "      <td>20.152778</td>\n",
       "    </tr>\n",
       "    <tr>\n",
       "      <th>1205</th>\n",
       "      <td>Hannan Sarkar</td>\n",
       "      <td>662.0</td>\n",
       "      <td>33.0</td>\n",
       "      <td>0.0</td>\n",
       "      <td>1419.0</td>\n",
       "      <td>20.060606</td>\n",
       "    </tr>\n",
       "  </tbody>\n",
       "</table>\n",
       "<p>593 rows × 6 columns</p>\n",
       "</div>"
      ],
      "text/plain": [
       "     Innings Player  Innings Runs Scored Num  Innings Batted Flag  \\\n",
       "661      DG Bradman                   6996.0                 80.0   \n",
       "1735  M Labuschagne                   1459.0                 23.0   \n",
       "2511      SG Barnes                   1072.0                 19.0   \n",
       "2571      SPD Smith                   7227.0                131.0   \n",
       "2771    Taslim Arif                    501.0                 10.0   \n",
       "...             ...                      ...                  ...   \n",
       "597       CZ Harris                    777.0                 42.0   \n",
       "1400   JG Bracewell                   1001.0                 60.0   \n",
       "682       DJ Murray                    303.0                 16.0   \n",
       "313           B Lee                   1451.0                 90.0   \n",
       "1205  Hannan Sarkar                    662.0                 33.0   \n",
       "\n",
       "      Innings Not Out Flag  Innings Balls Faced  Avg Score  \n",
       "661                   10.0               9800.0  99.942857  \n",
       "1735                   0.0               2581.0  63.434783  \n",
       "2511                   2.0               1990.0  63.058824  \n",
       "2571                  16.0              13068.0  62.843478  \n",
       "2771                   2.0               1042.0  62.625000  \n",
       "...                    ...                  ...        ...  \n",
       "597                    4.0               2305.0  20.447368  \n",
       "1400                  11.0               2503.0  20.428571  \n",
       "682                    1.0               1027.0  20.200000  \n",
       "313                   18.0               2739.0  20.152778  \n",
       "1205                   0.0               1419.0  20.060606  \n",
       "\n",
       "[593 rows x 6 columns]"
      ]
     },
     "execution_count": 187,
     "metadata": {},
     "output_type": "execute_result"
    }
   ],
   "source": [
    "Stats.sort_values(by='Avg Score',ascending=False)"
   ]
  },
  {
   "cell_type": "code",
   "execution_count": 171,
   "id": "7694679b",
   "metadata": {},
   "outputs": [
    {
     "data": {
      "text/html": [
       "<div>\n",
       "<style scoped>\n",
       "    .dataframe tbody tr th:only-of-type {\n",
       "        vertical-align: middle;\n",
       "    }\n",
       "\n",
       "    .dataframe tbody tr th {\n",
       "        vertical-align: top;\n",
       "    }\n",
       "\n",
       "    .dataframe thead th {\n",
       "        text-align: right;\n",
       "    }\n",
       "</style>\n",
       "<table border=\"1\" class=\"dataframe\">\n",
       "  <thead>\n",
       "    <tr style=\"text-align: right;\">\n",
       "      <th></th>\n",
       "      <th>Innings Player</th>\n",
       "      <th>Innings Runs Scored Num</th>\n",
       "      <th>Innings Batted Flag</th>\n",
       "      <th>Innings Not Out Flag</th>\n",
       "      <th>Innings Balls Faced</th>\n",
       "      <th>Avg Score</th>\n",
       "    </tr>\n",
       "  </thead>\n",
       "  <tbody>\n",
       "    <tr>\n",
       "      <th>13</th>\n",
       "      <td>A Flower</td>\n",
       "      <td>4794.0</td>\n",
       "      <td>112.0</td>\n",
       "      <td>19.0</td>\n",
       "      <td>10636.0</td>\n",
       "      <td>51.548387</td>\n",
       "    </tr>\n",
       "    <tr>\n",
       "      <th>64</th>\n",
       "      <td>AB de Villiers</td>\n",
       "      <td>8765.0</td>\n",
       "      <td>191.0</td>\n",
       "      <td>18.0</td>\n",
       "      <td>16077.0</td>\n",
       "      <td>50.664740</td>\n",
       "    </tr>\n",
       "    <tr>\n",
       "      <th>75</th>\n",
       "      <td>AC Voges</td>\n",
       "      <td>1485.0</td>\n",
       "      <td>31.0</td>\n",
       "      <td>7.0</td>\n",
       "      <td>2667.0</td>\n",
       "      <td>61.875000</td>\n",
       "    </tr>\n",
       "    <tr>\n",
       "      <th>211</th>\n",
       "      <td>AR Border</td>\n",
       "      <td>11174.0</td>\n",
       "      <td>265.0</td>\n",
       "      <td>44.0</td>\n",
       "      <td>27002.0</td>\n",
       "      <td>50.561086</td>\n",
       "    </tr>\n",
       "    <tr>\n",
       "      <th>346</th>\n",
       "      <td>BC Lara</td>\n",
       "      <td>11912.0</td>\n",
       "      <td>230.0</td>\n",
       "      <td>6.0</td>\n",
       "      <td>19694.0</td>\n",
       "      <td>53.178571</td>\n",
       "    </tr>\n",
       "    <tr>\n",
       "      <th>484</th>\n",
       "      <td>CF Walters</td>\n",
       "      <td>784.0</td>\n",
       "      <td>18.0</td>\n",
       "      <td>3.0</td>\n",
       "      <td>1008.0</td>\n",
       "      <td>52.266667</td>\n",
       "    </tr>\n",
       "    <tr>\n",
       "      <th>647</th>\n",
       "      <td>DCS Compton</td>\n",
       "      <td>5807.0</td>\n",
       "      <td>131.0</td>\n",
       "      <td>15.0</td>\n",
       "      <td>2745.0</td>\n",
       "      <td>50.060345</td>\n",
       "    </tr>\n",
       "    <tr>\n",
       "      <th>661</th>\n",
       "      <td>DG Bradman</td>\n",
       "      <td>6996.0</td>\n",
       "      <td>80.0</td>\n",
       "      <td>10.0</td>\n",
       "      <td>9800.0</td>\n",
       "      <td>99.942857</td>\n",
       "    </tr>\n",
       "    <tr>\n",
       "      <th>773</th>\n",
       "      <td>E Paynter</td>\n",
       "      <td>1540.0</td>\n",
       "      <td>31.0</td>\n",
       "      <td>5.0</td>\n",
       "      <td>1288.0</td>\n",
       "      <td>59.230769</td>\n",
       "    </tr>\n",
       "    <tr>\n",
       "      <th>1091</th>\n",
       "      <td>GS Chappell</td>\n",
       "      <td>7110.0</td>\n",
       "      <td>151.0</td>\n",
       "      <td>19.0</td>\n",
       "      <td>13079.0</td>\n",
       "      <td>53.863636</td>\n",
       "    </tr>\n",
       "    <tr>\n",
       "      <th>1093</th>\n",
       "      <td>GS Sobers</td>\n",
       "      <td>8032.0</td>\n",
       "      <td>160.0</td>\n",
       "      <td>21.0</td>\n",
       "      <td>4071.0</td>\n",
       "      <td>57.784173</td>\n",
       "    </tr>\n",
       "    <tr>\n",
       "      <th>1121</th>\n",
       "      <td>H Sutcliffe</td>\n",
       "      <td>4555.0</td>\n",
       "      <td>84.0</td>\n",
       "      <td>9.0</td>\n",
       "      <td>6558.0</td>\n",
       "      <td>60.733333</td>\n",
       "    </tr>\n",
       "    <tr>\n",
       "      <th>1260</th>\n",
       "      <td>IVA Richards</td>\n",
       "      <td>8540.0</td>\n",
       "      <td>182.0</td>\n",
       "      <td>12.0</td>\n",
       "      <td>9922.0</td>\n",
       "      <td>50.235294</td>\n",
       "    </tr>\n",
       "    <tr>\n",
       "      <th>1279</th>\n",
       "      <td>Inzamam-ul-Haq</td>\n",
       "      <td>8829.0</td>\n",
       "      <td>198.0</td>\n",
       "      <td>22.0</td>\n",
       "      <td>16338.0</td>\n",
       "      <td>50.164773</td>\n",
       "    </tr>\n",
       "    <tr>\n",
       "      <th>1312</th>\n",
       "      <td>J Ryder</td>\n",
       "      <td>1394.0</td>\n",
       "      <td>32.0</td>\n",
       "      <td>5.0</td>\n",
       "      <td>2037.0</td>\n",
       "      <td>51.629630</td>\n",
       "    </tr>\n",
       "    <tr>\n",
       "      <th>1345</th>\n",
       "      <td>JB Hobbs</td>\n",
       "      <td>5410.0</td>\n",
       "      <td>102.0</td>\n",
       "      <td>7.0</td>\n",
       "      <td>5449.0</td>\n",
       "      <td>56.947368</td>\n",
       "    </tr>\n",
       "    <tr>\n",
       "      <th>1412</th>\n",
       "      <td>JH Kallis</td>\n",
       "      <td>13206.0</td>\n",
       "      <td>278.0</td>\n",
       "      <td>39.0</td>\n",
       "      <td>28724.0</td>\n",
       "      <td>55.255230</td>\n",
       "    </tr>\n",
       "    <tr>\n",
       "      <th>1537</th>\n",
       "      <td>Javed Miandad</td>\n",
       "      <td>8832.0</td>\n",
       "      <td>189.0</td>\n",
       "      <td>21.0</td>\n",
       "      <td>15164.0</td>\n",
       "      <td>52.571429</td>\n",
       "    </tr>\n",
       "    <tr>\n",
       "      <th>1564</th>\n",
       "      <td>KC Sangakkara</td>\n",
       "      <td>12400.0</td>\n",
       "      <td>233.0</td>\n",
       "      <td>17.0</td>\n",
       "      <td>22882.0</td>\n",
       "      <td>57.407407</td>\n",
       "    </tr>\n",
       "    <tr>\n",
       "      <th>1578</th>\n",
       "      <td>KF Barrington</td>\n",
       "      <td>6806.0</td>\n",
       "      <td>131.0</td>\n",
       "      <td>15.0</td>\n",
       "      <td>4992.0</td>\n",
       "      <td>58.672414</td>\n",
       "    </tr>\n",
       "    <tr>\n",
       "      <th>1626</th>\n",
       "      <td>KS Williamson</td>\n",
       "      <td>6476.0</td>\n",
       "      <td>140.0</td>\n",
       "      <td>13.0</td>\n",
       "      <td>12543.0</td>\n",
       "      <td>50.992126</td>\n",
       "    </tr>\n",
       "    <tr>\n",
       "      <th>1653</th>\n",
       "      <td>L Hutton</td>\n",
       "      <td>6971.0</td>\n",
       "      <td>138.0</td>\n",
       "      <td>15.0</td>\n",
       "      <td>3107.0</td>\n",
       "      <td>56.674797</td>\n",
       "    </tr>\n",
       "    <tr>\n",
       "      <th>1735</th>\n",
       "      <td>M Labuschagne</td>\n",
       "      <td>1459.0</td>\n",
       "      <td>23.0</td>\n",
       "      <td>0.0</td>\n",
       "      <td>2581.0</td>\n",
       "      <td>63.434783</td>\n",
       "    </tr>\n",
       "    <tr>\n",
       "      <th>1751</th>\n",
       "      <td>MA Agarwal</td>\n",
       "      <td>974.0</td>\n",
       "      <td>17.0</td>\n",
       "      <td>0.0</td>\n",
       "      <td>1740.0</td>\n",
       "      <td>57.294118</td>\n",
       "    </tr>\n",
       "    <tr>\n",
       "      <th>1793</th>\n",
       "      <td>MEK Hussey</td>\n",
       "      <td>6235.0</td>\n",
       "      <td>137.0</td>\n",
       "      <td>16.0</td>\n",
       "      <td>12436.0</td>\n",
       "      <td>51.528926</td>\n",
       "    </tr>\n",
       "    <tr>\n",
       "      <th>1851</th>\n",
       "      <td>ML Hayden</td>\n",
       "      <td>8625.0</td>\n",
       "      <td>184.0</td>\n",
       "      <td>14.0</td>\n",
       "      <td>14349.0</td>\n",
       "      <td>50.735294</td>\n",
       "    </tr>\n",
       "    <tr>\n",
       "      <th>1958</th>\n",
       "      <td>Mohammad Yousuf</td>\n",
       "      <td>7530.0</td>\n",
       "      <td>156.0</td>\n",
       "      <td>12.0</td>\n",
       "      <td>14372.0</td>\n",
       "      <td>52.291667</td>\n",
       "    </tr>\n",
       "    <tr>\n",
       "      <th>2223</th>\n",
       "      <td>R Dravid</td>\n",
       "      <td>13265.0</td>\n",
       "      <td>284.0</td>\n",
       "      <td>32.0</td>\n",
       "      <td>31184.0</td>\n",
       "      <td>52.638889</td>\n",
       "    </tr>\n",
       "    <tr>\n",
       "      <th>2304</th>\n",
       "      <td>RG Pollock</td>\n",
       "      <td>2256.0</td>\n",
       "      <td>41.0</td>\n",
       "      <td>4.0</td>\n",
       "      <td>2008.0</td>\n",
       "      <td>60.972973</td>\n",
       "    </tr>\n",
       "    <tr>\n",
       "      <th>2404</th>\n",
       "      <td>RT Ponting</td>\n",
       "      <td>13378.0</td>\n",
       "      <td>287.0</td>\n",
       "      <td>29.0</td>\n",
       "      <td>22782.0</td>\n",
       "      <td>51.852713</td>\n",
       "    </tr>\n",
       "    <tr>\n",
       "      <th>2441</th>\n",
       "      <td>S Chanderpaul</td>\n",
       "      <td>11867.0</td>\n",
       "      <td>280.0</td>\n",
       "      <td>49.0</td>\n",
       "      <td>27395.0</td>\n",
       "      <td>51.372294</td>\n",
       "    </tr>\n",
       "    <tr>\n",
       "      <th>2511</th>\n",
       "      <td>SG Barnes</td>\n",
       "      <td>1072.0</td>\n",
       "      <td>19.0</td>\n",
       "      <td>2.0</td>\n",
       "      <td>1990.0</td>\n",
       "      <td>63.058824</td>\n",
       "    </tr>\n",
       "    <tr>\n",
       "      <th>2547</th>\n",
       "      <td>SM Gavaskar</td>\n",
       "      <td>10122.0</td>\n",
       "      <td>214.0</td>\n",
       "      <td>16.0</td>\n",
       "      <td>15327.0</td>\n",
       "      <td>51.121212</td>\n",
       "    </tr>\n",
       "    <tr>\n",
       "      <th>2571</th>\n",
       "      <td>SPD Smith</td>\n",
       "      <td>7227.0</td>\n",
       "      <td>131.0</td>\n",
       "      <td>16.0</td>\n",
       "      <td>13068.0</td>\n",
       "      <td>62.843478</td>\n",
       "    </tr>\n",
       "    <tr>\n",
       "      <th>2577</th>\n",
       "      <td>SR Tendulkar</td>\n",
       "      <td>15921.0</td>\n",
       "      <td>329.0</td>\n",
       "      <td>33.0</td>\n",
       "      <td>29437.0</td>\n",
       "      <td>53.787162</td>\n",
       "    </tr>\n",
       "    <tr>\n",
       "      <th>2580</th>\n",
       "      <td>SR Waugh</td>\n",
       "      <td>10927.0</td>\n",
       "      <td>260.0</td>\n",
       "      <td>46.0</td>\n",
       "      <td>22461.0</td>\n",
       "      <td>51.060748</td>\n",
       "    </tr>\n",
       "    <tr>\n",
       "      <th>2771</th>\n",
       "      <td>Taslim Arif</td>\n",
       "      <td>501.0</td>\n",
       "      <td>10.0</td>\n",
       "      <td>2.0</td>\n",
       "      <td>1042.0</td>\n",
       "      <td>62.625000</td>\n",
       "    </tr>\n",
       "    <tr>\n",
       "      <th>2790</th>\n",
       "      <td>V Kohli</td>\n",
       "      <td>7240.0</td>\n",
       "      <td>145.0</td>\n",
       "      <td>10.0</td>\n",
       "      <td>12552.0</td>\n",
       "      <td>53.629630</td>\n",
       "    </tr>\n",
       "    <tr>\n",
       "      <th>2808</th>\n",
       "      <td>VG Kambli</td>\n",
       "      <td>1084.0</td>\n",
       "      <td>21.0</td>\n",
       "      <td>1.0</td>\n",
       "      <td>1817.0</td>\n",
       "      <td>54.200000</td>\n",
       "    </tr>\n",
       "    <tr>\n",
       "      <th>2922</th>\n",
       "      <td>WR Hammond</td>\n",
       "      <td>7249.0</td>\n",
       "      <td>140.0</td>\n",
       "      <td>16.0</td>\n",
       "      <td>7491.0</td>\n",
       "      <td>58.459677</td>\n",
       "    </tr>\n",
       "    <tr>\n",
       "      <th>2963</th>\n",
       "      <td>Younis Khan</td>\n",
       "      <td>10099.0</td>\n",
       "      <td>213.0</td>\n",
       "      <td>19.0</td>\n",
       "      <td>19375.0</td>\n",
       "      <td>52.056701</td>\n",
       "    </tr>\n",
       "  </tbody>\n",
       "</table>\n",
       "</div>"
      ],
      "text/plain": [
       "       Innings Player  Innings Runs Scored Num  Innings Batted Flag  \\\n",
       "13           A Flower                   4794.0                112.0   \n",
       "64     AB de Villiers                   8765.0                191.0   \n",
       "75           AC Voges                   1485.0                 31.0   \n",
       "211         AR Border                  11174.0                265.0   \n",
       "346           BC Lara                  11912.0                230.0   \n",
       "484        CF Walters                    784.0                 18.0   \n",
       "647       DCS Compton                   5807.0                131.0   \n",
       "661        DG Bradman                   6996.0                 80.0   \n",
       "773         E Paynter                   1540.0                 31.0   \n",
       "1091      GS Chappell                   7110.0                151.0   \n",
       "1093        GS Sobers                   8032.0                160.0   \n",
       "1121      H Sutcliffe                   4555.0                 84.0   \n",
       "1260     IVA Richards                   8540.0                182.0   \n",
       "1279   Inzamam-ul-Haq                   8829.0                198.0   \n",
       "1312          J Ryder                   1394.0                 32.0   \n",
       "1345         JB Hobbs                   5410.0                102.0   \n",
       "1412        JH Kallis                  13206.0                278.0   \n",
       "1537    Javed Miandad                   8832.0                189.0   \n",
       "1564    KC Sangakkara                  12400.0                233.0   \n",
       "1578    KF Barrington                   6806.0                131.0   \n",
       "1626    KS Williamson                   6476.0                140.0   \n",
       "1653         L Hutton                   6971.0                138.0   \n",
       "1735    M Labuschagne                   1459.0                 23.0   \n",
       "1751       MA Agarwal                    974.0                 17.0   \n",
       "1793       MEK Hussey                   6235.0                137.0   \n",
       "1851        ML Hayden                   8625.0                184.0   \n",
       "1958  Mohammad Yousuf                   7530.0                156.0   \n",
       "2223         R Dravid                  13265.0                284.0   \n",
       "2304       RG Pollock                   2256.0                 41.0   \n",
       "2404       RT Ponting                  13378.0                287.0   \n",
       "2441    S Chanderpaul                  11867.0                280.0   \n",
       "2511        SG Barnes                   1072.0                 19.0   \n",
       "2547      SM Gavaskar                  10122.0                214.0   \n",
       "2571        SPD Smith                   7227.0                131.0   \n",
       "2577     SR Tendulkar                  15921.0                329.0   \n",
       "2580         SR Waugh                  10927.0                260.0   \n",
       "2771      Taslim Arif                    501.0                 10.0   \n",
       "2790          V Kohli                   7240.0                145.0   \n",
       "2808        VG Kambli                   1084.0                 21.0   \n",
       "2922       WR Hammond                   7249.0                140.0   \n",
       "2963      Younis Khan                  10099.0                213.0   \n",
       "\n",
       "      Innings Not Out Flag  Innings Balls Faced  Avg Score  \n",
       "13                    19.0              10636.0  51.548387  \n",
       "64                    18.0              16077.0  50.664740  \n",
       "75                     7.0               2667.0  61.875000  \n",
       "211                   44.0              27002.0  50.561086  \n",
       "346                    6.0              19694.0  53.178571  \n",
       "484                    3.0               1008.0  52.266667  \n",
       "647                   15.0               2745.0  50.060345  \n",
       "661                   10.0               9800.0  99.942857  \n",
       "773                    5.0               1288.0  59.230769  \n",
       "1091                  19.0              13079.0  53.863636  \n",
       "1093                  21.0               4071.0  57.784173  \n",
       "1121                   9.0               6558.0  60.733333  \n",
       "1260                  12.0               9922.0  50.235294  \n",
       "1279                  22.0              16338.0  50.164773  \n",
       "1312                   5.0               2037.0  51.629630  \n",
       "1345                   7.0               5449.0  56.947368  \n",
       "1412                  39.0              28724.0  55.255230  \n",
       "1537                  21.0              15164.0  52.571429  \n",
       "1564                  17.0              22882.0  57.407407  \n",
       "1578                  15.0               4992.0  58.672414  \n",
       "1626                  13.0              12543.0  50.992126  \n",
       "1653                  15.0               3107.0  56.674797  \n",
       "1735                   0.0               2581.0  63.434783  \n",
       "1751                   0.0               1740.0  57.294118  \n",
       "1793                  16.0              12436.0  51.528926  \n",
       "1851                  14.0              14349.0  50.735294  \n",
       "1958                  12.0              14372.0  52.291667  \n",
       "2223                  32.0              31184.0  52.638889  \n",
       "2304                   4.0               2008.0  60.972973  \n",
       "2404                  29.0              22782.0  51.852713  \n",
       "2441                  49.0              27395.0  51.372294  \n",
       "2511                   2.0               1990.0  63.058824  \n",
       "2547                  16.0              15327.0  51.121212  \n",
       "2571                  16.0              13068.0  62.843478  \n",
       "2577                  33.0              29437.0  53.787162  \n",
       "2580                  46.0              22461.0  51.060748  \n",
       "2771                   2.0               1042.0  62.625000  \n",
       "2790                  10.0              12552.0  53.629630  \n",
       "2808                   1.0               1817.0  54.200000  \n",
       "2922                  16.0               7491.0  58.459677  \n",
       "2963                  19.0              19375.0  52.056701  "
      ]
     },
     "execution_count": 171,
     "metadata": {},
     "output_type": "execute_result"
    }
   ],
   "source": []
  },
  {
   "cell_type": "code",
   "execution_count": null,
   "id": "d8301561",
   "metadata": {},
   "outputs": [],
   "source": []
  },
  {
   "cell_type": "code",
   "execution_count": null,
   "id": "e52e3d3a",
   "metadata": {},
   "outputs": [],
   "source": []
  },
  {
   "cell_type": "code",
   "execution_count": null,
   "id": "0db202d4",
   "metadata": {},
   "outputs": [],
   "source": []
  },
  {
   "cell_type": "code",
   "execution_count": null,
   "id": "6a83a0f9",
   "metadata": {},
   "outputs": [],
   "source": []
  },
  {
   "cell_type": "code",
   "execution_count": null,
   "id": "467bbba4",
   "metadata": {},
   "outputs": [],
   "source": []
  }
 ],
 "metadata": {
  "kernelspec": {
   "display_name": "Python 3 (ipykernel)",
   "language": "python",
   "name": "python3"
  },
  "language_info": {
   "codemirror_mode": {
    "name": "ipython",
    "version": 3
   },
   "file_extension": ".py",
   "mimetype": "text/x-python",
   "name": "python",
   "nbconvert_exporter": "python",
   "pygments_lexer": "ipython3",
   "version": "3.9.7"
  }
 },
 "nbformat": 4,
 "nbformat_minor": 5
}
