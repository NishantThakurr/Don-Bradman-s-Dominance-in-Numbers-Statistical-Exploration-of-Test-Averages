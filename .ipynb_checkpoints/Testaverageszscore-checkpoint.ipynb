{
 "cells": [
  {
   "cell_type": "code",
   "execution_count": 40,
   "id": "b6db4a57",
   "metadata": {},
   "outputs": [],
   "source": [
    "import pandas as pd\n",
    "import numpy as np"
   ]
  },
  {
   "cell_type": "code",
   "execution_count": 41,
   "id": "97b89485",
   "metadata": {},
   "outputs": [
    {
     "name": "stderr",
     "output_type": "stream",
     "text": [
      "C:\\Users\\91701\\AppData\\Local\\Temp\\ipykernel_17712\\2017227115.py:2: DtypeWarning:\n",
      "\n",
      "Columns (2,18,20,21,22,27) have mixed types. Specify dtype option on import or set low_memory=False.\n",
      "\n"
     ]
    }
   ],
   "source": [
    "data_19=pd.read_csv(\"Men Test Player Innings Stats - 19th Century.csv\")\n",
    "data_20=pd.read_csv(\"Men Test Player Innings Stats - 20th Century.csv\")\n",
    "data_21=pd.read_csv(\"Men Test Player Innings Stats - 21st Century.csv\")"
   ]
  },
  {
   "cell_type": "code",
   "execution_count": 42,
   "id": "f77a9d08",
   "metadata": {},
   "outputs": [],
   "source": [
    "data_19['Century']='19th'\n",
    "data_20['Century']='20th'\n",
    "data_21['Century']='21st'"
   ]
  },
  {
   "cell_type": "code",
   "execution_count": 43,
   "id": "2045daaa",
   "metadata": {},
   "outputs": [],
   "source": [
    "data_main=pd.concat([data_19,data_20,data_21])"
   ]
  },
  {
   "cell_type": "code",
   "execution_count": 44,
   "id": "55dc89a9",
   "metadata": {},
   "outputs": [
    {
     "data": {
      "text/plain": [
       "139497"
      ]
     },
     "execution_count": 44,
     "metadata": {},
     "output_type": "execute_result"
    }
   ],
   "source": [
    "data_main.duplicated().sum()"
   ]
  },
  {
   "cell_type": "code",
   "execution_count": 45,
   "id": "593cdb39",
   "metadata": {},
   "outputs": [],
   "source": [
    "data_main = data_main.drop_duplicates()"
   ]
  },
  {
   "cell_type": "code",
   "execution_count": 46,
   "id": "13fb420e",
   "metadata": {},
   "outputs": [],
   "source": [
    "columns_to_convert=['Innings Runs Scored Num', 'Innings Batted Flag',\n",
    "       'Innings Not Out Flag', 'Innings Balls Faced',\n",
    "       'Innings Boundary Fours']\n",
    "data_main[columns_to_convert] = data_main[columns_to_convert].apply(pd.to_numeric, errors='coerce')"
   ]
  },
  {
   "cell_type": "code",
   "execution_count": 47,
   "id": "dda4d693",
   "metadata": {},
   "outputs": [],
   "source": [
    "Stats = data_main.groupby('Innings Player').agg({\n",
    "    'Innings Runs Scored Num': 'sum',\n",
    "    'Innings Batted Flag': 'sum',\n",
    "    'Innings Not Out Flag': 'sum',\n",
    "    'Innings Balls Faced': 'sum'\n",
    "}).reset_index()\n"
   ]
  },
  {
   "cell_type": "code",
   "execution_count": 48,
   "id": "6c471ee7",
   "metadata": {},
   "outputs": [],
   "source": [
    "Stats['Avg Score']=Stats['Innings Runs Scored Num']/(Stats['Innings Batted Flag']-Stats['Innings Not Out Flag'])"
   ]
  },
  {
   "cell_type": "code",
   "execution_count": 49,
   "id": "b029c6e0",
   "metadata": {},
   "outputs": [],
   "source": [
    "Stats=Stats[(Stats['Avg Score']>=20) & (Stats['Innings Balls Faced']>=1000)]"
   ]
  },
  {
   "cell_type": "code",
   "execution_count": null,
   "id": "74ebae85",
   "metadata": {},
   "outputs": [],
   "source": []
  },
  {
   "cell_type": "code",
   "execution_count": null,
   "id": "523ec7d9",
   "metadata": {},
   "outputs": [],
   "source": []
  },
  {
   "cell_type": "code",
   "execution_count": 50,
   "id": "42b7516d",
   "metadata": {},
   "outputs": [],
   "source": [
    "import seaborn as sns\n",
    "import matplotlib.pyplot as plt"
   ]
  },
  {
   "cell_type": "code",
   "execution_count": 51,
   "id": "0783b2d0",
   "metadata": {},
   "outputs": [
    {
     "data": {
      "image/png": "[encoded data removed]",
      "text/plain": [
       "<Figure size 432x288 with 1 Axes>"
      ]
     },
     "metadata": {
      "needs_background": "light"
     },
     "output_type": "display_data"
    }
   ],
   "source": [
    "import seaborn as sns\n",
    "\n",
    "# Assuming 'data_main' is a pandas DataFrame and 'Avg Score' is a column in it\n",
    "avg_score = Stats['Avg Score']\n",
    "\n",
    "# Plotting the KDE plot\n",
    "sns.kdeplot(data=avg_score)\n",
    "plt.xlabel('Test Average')\n",
    "plt.ylabel('Density')\n",
    "plt.title('Kernel Density Estimation of Average Score')\n",
    "plt.show()\n"
   ]
  },
  {
   "cell_type": "code",
   "execution_count": 52,
   "id": "8e863474",
   "metadata": {},
   "outputs": [
    {
     "data": {
      "application/vnd.plotly.v1+json": {
       "config": {
        "plotlyServerURL": "https://plot.ly"
       },
       "data": [
        {
         "boxmean": "sd",
         "boxpoints": "outliers",
         "line": {
          "color": "gray"
         },
         "marker": {
          "color": "skyblue"
         },
         "name": "Test Average",
         "type": "box",
         "y": [
          23,
          31.89075630252101,
          51.54838709677419,
          26.181818181818183,
          21.6,
          35.6993006993007,
          40.611111111111114,
          29.53846153846154,
          23.464285714285715,
          50.664739884393065,
          47.60683760683761,
          33.45,
          26.28440366972477,
          61.875,
          30.075757575757574,
          27.285714285714285,
          45.31060606060606,
          27.21904761904762,
          20.897058823529413,
          36.121212121212125,
          24.53846153846154,
          41.64772727272727,
          44.27272727272727,
          44.43434343434343,
          26.20689655172414,
          36.093023255813954,
          31.5,
          39.546728971962615,
          40.91279069767442,
          24.59259259259259,
          38.486486486486484,
          46.56060606060606,
          35.79710144927536,
          31.073529411764707,
          26.03125,
          26.848484848484848,
          42.88775510204081,
          31.558823529411764,
          45.35272727272727,
          34.88333333333333,
          38.92063492063492,
          33.91489361702128,
          32.75373134328358,
          50.56108597285068,
          46.48684210526316,
          35.1,
          40.438202247191015,
          35.3125,
          35.2875,
          28.61764705882353,
          24.625,
          20.785714285714285,
          40.916666666666664,
          22.766666666666666,
          21.2,
          39.256410256410255,
          38.858695652173914,
          24.42105263157895,
          37.73684210526316,
          42.58273381294964,
          30,
          22.08,
          20.15277777777778,
          21.61904761904762,
          30.59375,
          22.93103448275862,
          36.54054054054054,
          31.78125,
          38.64071856287425,
          42.214285714285715,
          39.54761904761905,
          53.17857142857143,
          32.22429906542056,
          43.111111111111114,
          30.2,
          32.98989898989899,
          38.50526315789474,
          36.97530864197531,
          40.064516129032256,
          35.28947368421053,
          39.36,
          33.42424242424242,
          35.43103448275862,
          36.05555555555556,
          45.1219512195122,
          26.8125,
          37.421052631578945,
          42.81666666666667,
          24.46511627906977,
          37.03125,
          48.666666666666664,
          22.408163265306122,
          45.06944444444444,
          23.020833333333332,
          39.32911392405063,
          25.941176470588236,
          38.46913580246913,
          52.266666666666666,
          44.72189349112426,
          42.187134502923975,
          46.67701863354037,
          32.523809523809526,
          35.41935483870968,
          32.5,
          42.87234042553192,
          33.535353535353536,
          36.46835443037975,
          30.153846153846153,
          26.34285714285714,
          31.575757575757574,
          35.529411764705884,
          26.75,
          26.235294117647058,
          48.1,
          22.975,
          20.44736842105263,
          28.666666666666668,
          38.495049504950494,
          25.714285714285715,
          42.46153846153846,
          25.875,
          48.945945945945944,
          25.34285714285714,
          42.13496932515337,
          43.65882352941176,
          50.060344827586206,
          22.685185185185187,
          99.94285714285714,
          29.625,
          44.25268817204301,
          31.428571428571427,
          44.213592233009706,
          27.846153846153847,
          20.2,
          23.516129032258064,
          24.267857142857142,
          21.688524590163933,
          46.30769230769231,
          42.29943502824859,
          43.05882352941177,
          22.908045977011493,
          30.153333333333332,
          37.69892473118279,
          46.55128205128205,
          35.15094339622642,
          20.689655172413794,
          49.848101265822784,
          25.95,
          48,
          46.37894736842105,
          44.95,
          23.783783783783782,
          42.0625,
          34.36842105263158,
          33.37837837837838,
          21.074074074074073,
          59.23076923076923,
          25.428571428571427,
          47.63513513513514,
          45.74545454545454,
          30.434782608695652,
          31.28125,
          47.8936170212766,
          39.80612244897959,
          36.78048780487805,
          36.07692307692308,
          22.29230769230769,
          31.083333333333332,
          26.761904761904763,
          47.72941176470588,
          35.32432432432432,
          41.95959595959596,
          40,
          45.27329192546584,
          25.80851063829787,
          40.7906976744186,
          42.58373205741627,
          31.324074074074073,
          48.7,
          36.8,
          28.93548387096774,
          22.733333333333334,
          29.426666666666666,
          35.208333333333336,
          44.64179104477612,
          31.830188679245282,
          41.134328358208954,
          23.918367346938776,
          24.193548387096776,
          32.44871794871795,
          22.096774193548388,
          44.66225165562914,
          33.18604651162791,
          41.93103448275862,
          41.08888888888889,
          30.714285714285715,
          37.45,
          34.026666666666664,
          53.86363636363637,
          57.78417266187051,
          31.16216216216216,
          29.54700854700855,
          30.04054054054054,
          60.733333333333334,
          20.90625,
          39.6375,
          29.5,
          26.964285714285715,
          22.64516129032258,
          30.140350877192983,
          41.95238095238095,
          22.359550561797754,
          38.35294117647059,
          45.06666666666667,
          46.64321608040201,
          39.70454545454545,
          42.87735849056604,
          30.877551020408163,
          43.98876404494382,
          20.060606060606062,
          37.22727272727273,
          34.77142857142857,
          27.39622641509434,
          26.615384615384617,
          25.56338028169014,
          44.08045977011494,
          31.571428571428573,
          42.42063492063492,
          42.69060773480663,
          43.45871559633027,
          33.54838709677419,
          50.23529411764706,
          37.67045454545455,
          25.526315789473685,
          32,
          35.398148148148145,
          24.283783783783782,
          50.16477272727273,
          26.035714285714285,
          30.266666666666666,
          26.647058823529413,
          46.74285714285714,
          51.629629629629626,
          38.30555555555556,
          30.07894736842105,
          35.432432432432435,
          56.94736842105263,
          41.26027397260274,
          31.746268656716417,
          40.935483870967744,
          36.326530612244895,
          33.76190476190476,
          22.539473684210527,
          48.40127388535032,
          20.71794871794872,
          46.285714285714285,
          22.620689655172413,
          20.428571428571427,
          37.829787234042556,
          43.54237288135593,
          55.25523012552301,
          42.464285714285715,
          26.24590163934426,
          28.364864864864863,
          30,
          45.27058823529412,
          34.741379310344826,
          22.88888888888889,
          22.705882352941178,
          24.557377049180328,
          32.16393442622951,
          35.607142857142854,
          24.90909090909091,
          35.66197183098591,
          32.724137931034484,
          34.61538461538461,
          30.47142857142857,
          22.390243902439025,
          25.21875,
          37.57746478873239,
          26,
          29.151515151515152,
          52.57142857142857,
          22.05128205128205,
          26.18918918918919,
          29.884057971014492,
          31.806451612903224,
          49.088235294117645,
          33.2952380952381,
          57.407407407407405,
          41,
          21.232558139534884,
          25,
          33.48888888888889,
          48.26126126126126,
          58.672413793103445,
          37.41525423728814,
          25.76,
          21.48936170212766,
          25.193548387096776,
          34.58620689655172,
          30.711111111111112,
          26.813333333333333,
          47.28901734104046,
          36.975,
          27.087912087912088,
          37.42666666666667,
          25.7,
          50.99212598425197,
          39.90243902439025,
          30.790697674418606,
          28.17241379310345,
          56.67479674796748,
          32.86206896551724,
          34.15384615384615,
          40.810526315789474,
          40.56666666666667,
          43.5531914893617,
          31.642857142857142,
          46.10191082802548,
          26.03030303030303,
          42.50485436893204,
          45.03623188405797,
          32.8421052631579,
          63.43478260869565,
          46.06666666666667,
          32.6530612244898,
          38.28846153846154,
          57.294117647058826,
          37.697560975609754,
          34.58064516129032,
          22.279411764705884,
          43.49710982658959,
          34.9125,
          44.06936416184971,
          24.3,
          36.8125,
          45.36666666666667,
          28.4375,
          27.68421052631579,
          31.133333333333333,
          43.796992481203006,
          41.817708333333336,
          51.52892561983471,
          29.074074074074073,
          31.209302325581394,
          22.204301075268816,
          36.903225806451616,
          39.69047619047619,
          44.774193548387096,
          49.10795454545455,
          30.62121212121212,
          29.386363636363637,
          28.38095238095238,
          35.484848484848484,
          40.18627450980392,
          25.551724137931036,
          42.83870967741935,
          31.63888888888889,
          50.73529411764706,
          28.979166666666668,
          32.641666666666666,
          21.37037037037037,
          41.44202898550725,
          25.2,
          27.325581395348838,
          39.02127659574468,
          38.09375,
          32.05882352941177,
          31.304347826086957,
          33.473684210526315,
          33.48571428571429,
          30.544444444444444,
          35.556451612903224,
          42.84848484848485,
          31.770114942528735,
          38.92079207920792,
          25.192307692307693,
          46.625,
          24.00877192982456,
          37.649484536082475,
          30.115384615384617,
          52.291666666666664,
          37.10958904109589,
          28.552083333333332,
          40.857142857142854,
          38.092592592592595,
          36.775,
          39.17204301075269,
          25.23076923076923,
          25.892857142857142,
          30.983870967741936,
          37.18709677419355,
          31.05325443786982,
          24.181818181818183,
          45.557377049180324,
          37.39080459770115,
          37.023622047244096,
          24.033333333333335,
          28.703703703703702,
          42.13157894736842,
          32.58181818181818,
          23.966666666666665,
          32,
          23.545454545454547,
          34.8,
          26.90909090909091,
          47.473684210526315,
          31.133333333333333,
          27.06451612903226,
          42.979729729729726,
          46.77319587628866,
          40.56190476190476,
          25.44736842105263,
          40.91304347826087,
          32.659574468085104,
          35.53333333333333,
          46.23529411764706,
          31.942307692307693,
          38.166666666666664,
          42.5,
          28.5,
          26.9375,
          22.285714285714285,
          31.892857142857142,
          31.3,
          26.52777777777778,
          24.15,
          38.916666666666664,
          22.266666666666666,
          39.12,
          36.63414634146341,
          28.105882352941176,
          24.455555555555556,
          52.638888888888886,
          40.37931034482759,
          23.240506329113924,
          35.264150943396224,
          43.670103092783506,
          33.09375,
          47.534351145038165,
          39.5609756097561,
          44.3955223880597,
          46.81730769230769,
          42.490196078431374,
          27.1,
          28.318681318681318,
          31.70689655172414,
          60.972972972972975,
          46.54347826086956,
          25.12,
          33.758620689655174,
          35.794392523364486,
          31.38888888888889,
          36.714285714285715,
          46.84090909090909,
          23.055555555555557,
          48.41732283464567,
          21.041666666666668,
          28.015384615384615,
          38.76190476190476,
          40.013698630136986,
          31.944444444444443,
          26.12162162162162,
          29.4,
          29.272727272727273,
          22.03846153846154,
          51.85271317829457,
          36.38636363636363,
          35.595238095238095,
          25.1875,
          26.51824817518248,
          31,
          25.931818181818183,
          31.831460674157302,
          28.770833333333332,
          51.37229437229437,
          40.6140350877193,
          22.652173913043477,
          37.97222222222222,
          33.1875,
          29.071428571428573,
          30.903225806451612,
          29.375,
          36.04545454545455,
          33.26315789473684,
          42.175438596491226,
          27.125,
          27.236363636363638,
          34.31818181818182,
          63.05882352941177,
          48.21052631578947,
          26.482758620689655,
          32.38202247191011,
          27.346153846153847,
          51.121212121212125,
          45.03225806451613,
          47.60377358490566,
          36.93023255813954,
          32.31623931623932,
          35.69565217391305,
          27.04901960784314,
          30.083333333333332,
          27.933333333333334,
          40.06703910614525,
          62.84347826086957,
          53.78716216216216,
          35.198113207547166,
          51.0607476635514,
          34.89473684210526,
          40.07471264367816,
          26.916666666666668,
          37.14545454545455,
          35.81944444444444,
          45.52808988764045,
          43.696969696969695,
          27.05128205128205,
          30.467741935483872,
          31.583333333333332,
          36.397260273972606,
          36.51063829787234,
          26.395833333333332,
          39.40816326530612,
          31.289473684210527,
          35.148148148148145,
          44.34426229508197,
          34.56666666666667,
          27.16521739130435,
          29.214285714285715,
          30.75,
          30.313725490196077,
          31.666666666666668,
          29.74025974025974,
          26.823529411764707,
          27.548387096774192,
          23,
          29.8,
          34.465753424657535,
          40.985074626865675,
          41.96153846153846,
          29.285714285714285,
          21.864864864864863,
          31.26923076923077,
          26.136363636363637,
          48.767857142857146,
          44.38181818181818,
          42.34090909090909,
          38.64035087719298,
          62.625,
          37.98717948717949,
          29.627906976744185,
          26.782608695652176,
          40.66197183098591,
          35.82142857142857,
          53.629629629629626,
          24.346153846153847,
          49.43604651162791,
          21.107142857142858,
          24.04054054054054,
          54.2,
          47.65217391304348,
          37.84375,
          39.04938271604938,
          45.973821989528794,
          23.533333333333335,
          40.47540983606557,
          34.10526315789474,
          20.541666666666668,
          30.194805194805195,
          46.8235294117647,
          22.650793650793652,
          32.28260869565217,
          48.22727272727273,
          36.411764705882355,
          40,
          31.310344827586206,
          26.807692307692307,
          47.153153153153156,
          46,
          30.195121951219512,
          24.322834645669293,
          58.45967741935484,
          31.89090909090909,
          24.88888888888889,
          38.689189189189186,
          33.0126582278481,
          22.640625,
          36.166666666666664,
          33.458333333333336,
          32.41304347826087,
          52.05670103092783,
          33.92857142857143,
          44.796460176991154
         ]
        }
       ],
       "layout": {
        "template": {
         "data": {
          "bar": [
           {
            "error_x": {
             "color": "#2a3f5f"
            },
            "error_y": {
             "color": "#2a3f5f"
            },
            "marker": {
             "line": {
              "color": "#E5ECF6",
              "width": 0.5
             },
             "pattern": {
              "fillmode": "overlay",
              "size": 10,
              "solidity": 0.2
             }
            },
            "type": "bar"
           }
          ],
          "barpolar": [
           {
            "marker": {
             "line": {
              "color": "#E5ECF6",
              "width": 0.5
             },
             "pattern": {
              "fillmode": "overlay",
              "size": 10,
              "solidity": 0.2
             }
            },
            "type": "barpolar"
           }
          ],
          "carpet": [
           {
            "aaxis": {
             "endlinecolor": "#2a3f5f",
             "gridcolor": "white",
             "linecolor": "white",
             "minorgridcolor": "white",
             "startlinecolor": "#2a3f5f"
            },
            "baxis": {
             "endlinecolor": "#2a3f5f",
             "gridcolor": "white",
             "linecolor": "white",
             "minorgridcolor": "white",
             "startlinecolor": "#2a3f5f"
            },
            "type": "carpet"
           }
          ],
          "choropleth": [
           {
            "colorbar": {
             "outlinewidth": 0,
             "ticks": ""
            },
            "type": "choropleth"
           }
          ],
          "contour": [
           {
            "colorbar": {
             "outlinewidth": 0,
             "ticks": ""
            },
            "colorscale": [
             [
              0,
              "#0d0887"
             ],
             [
              0.1111111111111111,
              "#46039f"
             ],
             [
              0.2222222222222222,
              "#7201a8"
             ],
             [
              0.3333333333333333,
              "#9c179e"
             ],
             [
              0.4444444444444444,
              "#bd3786"
             ],
             [
              0.5555555555555556,
              "#d8576b"
             ],
             [
              0.6666666666666666,
              "#ed7953"
             ],
             [
              0.7777777777777778,
              "#fb9f3a"
             ],
             [
              0.8888888888888888,
              "#fdca26"
             ],
             [
              1,
              "#f0f921"
             ]
            ],
            "type": "contour"
           }
          ],
          "contourcarpet": [
           {
            "colorbar": {
             "outlinewidth": 0,
             "ticks": ""
            },
            "type": "contourcarpet"
           }
          ],
          "heatmap": [
           {
            "colorbar": {
             "outlinewidth": 0,
             "ticks": ""
            },
            "colorscale": [
             [
              0,
              "#0d0887"
             ],
             [
              0.1111111111111111,
              "#46039f"
             ],
             [
              0.2222222222222222,
              "#7201a8"
             ],
             [
              0.3333333333333333,
              "#9c179e"
             ],
             [
              0.4444444444444444,
              "#bd3786"
             ],
             [
              0.5555555555555556,
              "#d8576b"
             ],
             [
              0.6666666666666666,
              "#ed7953"
             ],
             [
              0.7777777777777778,
              "#fb9f3a"
             ],
             [
              0.8888888888888888,
              "#fdca26"
             ],
             [
              1,
              "#f0f921"
             ]
            ],
            "type": "heatmap"
           }
          ],
          "heatmapgl": [
           {
            "colorbar": {
             "outlinewidth": 0,
             "ticks": ""
            },
            "colorscale": [
             [
              0,
              "#0d0887"
             ],
             [
              0.1111111111111111,
              "#46039f"
             ],
             [
              0.2222222222222222,
              "#7201a8"
             ],
             [
              0.3333333333333333,
              "#9c179e"
             ],
             [
              0.4444444444444444,
              "#bd3786"
             ],
             [
              0.5555555555555556,
              "#d8576b"
             ],
             [
              0.6666666666666666,
              "#ed7953"
             ],
             [
              0.7777777777777778,
              "#fb9f3a"
             ],
             [
              0.8888888888888888,
              "#fdca26"
             ],
             [
              1,
              "#f0f921"
             ]
            ],
            "type": "heatmapgl"
           }
          ],
          "histogram": [
           {
            "marker": {
             "pattern": {
              "fillmode": "overlay",
              "size": 10,
              "solidity": 0.2
             }
            },
            "type": "histogram"
           }
          ],
          "histogram2d": [
           {
            "colorbar": {
             "outlinewidth": 0,
             "ticks": ""
            },
            "colorscale": [
             [
              0,
              "#0d0887"
             ],
             [
              0.1111111111111111,
              "#46039f"
             ],
             [
              0.2222222222222222,
              "#7201a8"
             ],
             [
              0.3333333333333333,
              "#9c179e"
             ],
             [
              0.4444444444444444,
              "#bd3786"
             ],
             [
              0.5555555555555556,
              "#d8576b"
             ],
             [
              0.6666666666666666,
              "#ed7953"
             ],
             [
              0.7777777777777778,
              "#fb9f3a"
             ],
             [
              0.8888888888888888,
              "#fdca26"
             ],
             [
              1,
              "#f0f921"
             ]
            ],
            "type": "histogram2d"
           }
          ],
          "histogram2dcontour": [
           {
            "colorbar": {
             "outlinewidth": 0,
             "ticks": ""
            },
            "colorscale": [
             [
              0,
              "#0d0887"
             ],
             [
              0.1111111111111111,
              "#46039f"
             ],
             [
              0.2222222222222222,
              "#7201a8"
             ],
             [
              0.3333333333333333,
              "#9c179e"
             ],
             [
              0.4444444444444444,
              "#bd3786"
             ],
             [
              0.5555555555555556,
              "#d8576b"
             ],
             [
              0.6666666666666666,
              "#ed7953"
             ],
             [
              0.7777777777777778,
              "#fb9f3a"
             ],
             [
              0.8888888888888888,
              "#fdca26"
             ],
             [
              1,
              "#f0f921"
             ]
            ],
            "type": "histogram2dcontour"
           }
          ],
          "mesh3d": [
           {
            "colorbar": {
             "outlinewidth": 0,
             "ticks": ""
            },
            "type": "mesh3d"
           }
          ],
          "parcoords": [
           {
            "line": {
             "colorbar": {
              "outlinewidth": 0,
              "ticks": ""
             }
            },
            "type": "parcoords"
           }
          ],
          "pie": [
           {
            "automargin": true,
            "type": "pie"
           }
          ],
          "scatter": [
           {
            "marker": {
             "colorbar": {
              "outlinewidth": 0,
              "ticks": ""
             }
            },
            "type": "scatter"
           }
          ],
          "scatter3d": [
           {
            "line": {
             "colorbar": {
              "outlinewidth": 0,
              "ticks": ""
             }
            },
            "marker": {
             "colorbar": {
              "outlinewidth": 0,
              "ticks": ""
             }
            },
            "type": "scatter3d"
           }
          ],
          "scattercarpet": [
           {
            "marker": {
             "colorbar": {
              "outlinewidth": 0,
              "ticks": ""
             }
            },
            "type": "scattercarpet"
           }
          ],
          "scattergeo": [
           {
            "marker": {
             "colorbar": {
              "outlinewidth": 0,
              "ticks": ""
             }
            },
            "type": "scattergeo"
           }
          ],
          "scattergl": [
           {
            "marker": {
             "colorbar": {
              "outlinewidth": 0,
              "ticks": ""
             }
            },
            "type": "scattergl"
           }
          ],
          "scattermapbox": [
           {
            "marker": {
             "colorbar": {
              "outlinewidth": 0,
              "ticks": ""
             }
            },
            "type": "scattermapbox"
           }
          ],
          "scatterpolar": [
           {
            "marker": {
             "colorbar": {
              "outlinewidth": 0,
              "ticks": ""
             }
            },
            "type": "scatterpolar"
           }
          ],
          "scatterpolargl": [
           {
            "marker": {
             "colorbar": {
              "outlinewidth": 0,
              "ticks": ""
             }
            },
            "type": "scatterpolargl"
           }
          ],
          "scatterternary": [
           {
            "marker": {
             "colorbar": {
              "outlinewidth": 0,
              "ticks": ""
             }
            },
            "type": "scatterternary"
           }
          ],
          "surface": [
           {
            "colorbar": {
             "outlinewidth": 0,
             "ticks": ""
            },
            "colorscale": [
             [
              0,
              "#0d0887"
             ],
             [
              0.1111111111111111,
              "#46039f"
             ],
             [
              0.2222222222222222,
              "#7201a8"
             ],
             [
              0.3333333333333333,
              "#9c179e"
             ],
             [
              0.4444444444444444,
              "#bd3786"
             ],
             [
              0.5555555555555556,
              "#d8576b"
             ],
             [
              0.6666666666666666,
              "#ed7953"
             ],
             [
              0.7777777777777778,
              "#fb9f3a"
             ],
             [
              0.8888888888888888,
              "#fdca26"
             ],
             [
              1,
              "#f0f921"
             ]
            ],
            "type": "surface"
           }
          ],
          "table": [
           {
            "cells": {
             "fill": {
              "color": "#EBF0F8"
             },
             "line": {
              "color": "white"
             }
            },
            "header": {
             "fill": {
              "color": "#C8D4E3"
             },
             "line": {
              "color": "white"
             }
            },
            "type": "table"
           }
          ]
         },
         "layout": {
          "annotationdefaults": {
           "arrowcolor": "#2a3f5f",
           "arrowhead": 0,
           "arrowwidth": 1
          },
          "autotypenumbers": "strict",
          "coloraxis": {
           "colorbar": {
            "outlinewidth": 0,
            "ticks": ""
           }
          },
          "colorscale": {
           "diverging": [
            [
             0,
             "#8e0152"
            ],
            [
             0.1,
             "#c51b7d"
            ],
            [
             0.2,
             "#de77ae"
            ],
            [
             0.3,
             "#f1b6da"
            ],
            [
             0.4,
             "#fde0ef"
            ],
            [
             0.5,
             "#f7f7f7"
            ],
            [
             0.6,
             "#e6f5d0"
            ],
            [
             0.7,
             "#b8e186"
            ],
            [
             0.8,
             "#7fbc41"
            ],
            [
             0.9,
             "#4d9221"
            ],
            [
             1,
             "#276419"
            ]
           ],
           "sequential": [
            [
             0,
             "#0d0887"
            ],
            [
             0.1111111111111111,
             "#46039f"
            ],
            [
             0.2222222222222222,
             "#7201a8"
            ],
            [
             0.3333333333333333,
             "#9c179e"
            ],
            [
             0.4444444444444444,
             "#bd3786"
            ],
            [
             0.5555555555555556,
             "#d8576b"
            ],
            [
             0.6666666666666666,
             "#ed7953"
            ],
            [
             0.7777777777777778,
             "#fb9f3a"
            ],
            [
             0.8888888888888888,
             "#fdca26"
            ],
            [
             1,
             "#f0f921"
            ]
           ],
           "sequentialminus": [
            [
             0,
             "#0d0887"
            ],
            [
             0.1111111111111111,
             "#46039f"
            ],
            [
             0.2222222222222222,
             "#7201a8"
            ],
            [
             0.3333333333333333,
             "#9c179e"
            ],
            [
             0.4444444444444444,
             "#bd3786"
            ],
            [
             0.5555555555555556,
             "#d8576b"
            ],
            [
             0.6666666666666666,
             "#ed7953"
            ],
            [
             0.7777777777777778,
             "#fb9f3a"
            ],
            [
             0.8888888888888888,
             "#fdca26"
            ],
            [
             1,
             "#f0f921"
            ]
           ]
          },
          "colorway": [
           "#636efa",
           "#EF553B",
           "#00cc96",
           "#ab63fa",
           "#FFA15A",
           "#19d3f3",
           "#FF6692",
           "#B6E880",
           "#FF97FF",
           "#FECB52"
          ],
          "font": {
           "color": "#2a3f5f"
          },
          "geo": {
           "bgcolor": "white",
           "lakecolor": "white",
           "landcolor": "#E5ECF6",
           "showlakes": true,
           "showland": true,
           "subunitcolor": "white"
          },
          "hoverlabel": {
           "align": "left"
          },
          "hovermode": "closest",
          "mapbox": {
           "style": "light"
          },
          "paper_bgcolor": "white",
          "plot_bgcolor": "#E5ECF6",
          "polar": {
           "angularaxis": {
            "gridcolor": "white",
            "linecolor": "white",
            "ticks": ""
           },
           "bgcolor": "#E5ECF6",
           "radialaxis": {
            "gridcolor": "white",
            "linecolor": "white",
            "ticks": ""
           }
          },
          "scene": {
           "xaxis": {
            "backgroundcolor": "#E5ECF6",
            "gridcolor": "white",
            "gridwidth": 2,
            "linecolor": "white",
            "showbackground": true,
            "ticks": "",
            "zerolinecolor": "white"
           },
           "yaxis": {
            "backgroundcolor": "#E5ECF6",
            "gridcolor": "white",
            "gridwidth": 2,
            "linecolor": "white",
            "showbackground": true,
            "ticks": "",
            "zerolinecolor": "white"
           },
           "zaxis": {
            "backgroundcolor": "#E5ECF6",
            "gridcolor": "white",
            "gridwidth": 2,
            "linecolor": "white",
            "showbackground": true,
            "ticks": "",
            "zerolinecolor": "white"
           }
          },
          "shapedefaults": {
           "line": {
            "color": "#2a3f5f"
           }
          },
          "ternary": {
           "aaxis": {
            "gridcolor": "white",
            "linecolor": "white",
            "ticks": ""
           },
           "baxis": {
            "gridcolor": "white",
            "linecolor": "white",
            "ticks": ""
           },
           "bgcolor": "#E5ECF6",
           "caxis": {
            "gridcolor": "white",
            "linecolor": "white",
            "ticks": ""
           }
          },
          "title": {
           "x": 0.05
          },
          "xaxis": {
           "automargin": true,
           "gridcolor": "white",
           "linecolor": "white",
           "ticks": "",
           "title": {
            "standoff": 15
           },
           "zerolinecolor": "white",
           "zerolinewidth": 2
          },
          "yaxis": {
           "automargin": true,
           "gridcolor": "white",
           "linecolor": "white",
           "ticks": "",
           "title": {
            "standoff": 15
           },
           "zerolinecolor": "white",
           "zerolinewidth": 2
          }
         }
        },
        "title": {
         "text": "Boxplot of Average Scores"
        },
        "xaxis": {
         "showticklabels": false
        },
        "yaxis": {
         "title": {
          "text": "Score"
         }
        }
       }
      },
      "text/html": [
       "<div>                            <div id=\"fb0ee3dd-890d-47f2-8c60-da70720c9805\" class=\"plotly-graph-div\" style=\"height:525px; width:100%;\"></div>            <script type=\"text/javascript\">                require([\"plotly\"], function(Plotly) {                    window.PLOTLYENV=window.PLOTLYENV || {};                                    if (document.getElementById(\"fb0ee3dd-890d-47f2-8c60-da70720c9805\")) {                    Plotly.newPlot(                        \"fb0ee3dd-890d-47f2-8c60-da70720c9805\",                        [{\"boxmean\":\"sd\",\"boxpoints\":\"outliers\",\"line\":{\"color\":\"gray\"},\"marker\":{\"color\":\"skyblue\"},\"name\":\"Test Average\",\"y\":[23.0,31.89075630252101,51.54838709677419,26.181818181818183,21.6,35.6993006993007,40.611111111111114,29.53846153846154,23.464285714285715,50.664739884393065,47.60683760683761,33.45,26.28440366972477,61.875,30.075757575757574,27.285714285714285,45.31060606060606,27.21904761904762,20.897058823529413,36.121212121212125,24.53846153846154,41.64772727272727,44.27272727272727,44.43434343434343,26.20689655172414,36.093023255813954,31.5,39.546728971962615,40.91279069767442,24.59259259259259,38.486486486486484,46.56060606060606,35.79710144927536,31.073529411764707,26.03125,26.848484848484848,42.88775510204081,31.558823529411764,45.35272727272727,34.88333333333333,38.92063492063492,33.91489361702128,32.75373134328358,50.56108597285068,46.48684210526316,35.1,40.438202247191015,35.3125,35.2875,28.61764705882353,24.625,20.785714285714285,40.916666666666664,22.766666666666666,21.2,39.256410256410255,38.858695652173914,24.42105263157895,37.73684210526316,42.58273381294964,30.0,22.08,20.15277777777778,21.61904761904762,30.59375,22.93103448275862,36.54054054054054,31.78125,38.64071856287425,42.214285714285715,39.54761904761905,53.17857142857143,32.22429906542056,43.111111111111114,30.2,32.98989898989899,38.50526315789474,36.97530864197531,40.064516129032256,35.28947368421053,39.36,33.42424242424242,35.43103448275862,36.05555555555556,45.1219512195122,26.8125,37.421052631578945,42.81666666666667,24.46511627906977,37.03125,48.666666666666664,22.408163265306122,45.06944444444444,23.020833333333332,39.32911392405063,25.941176470588236,38.46913580246913,52.266666666666666,44.72189349112426,42.187134502923975,46.67701863354037,32.523809523809526,35.41935483870968,32.5,42.87234042553192,33.535353535353536,36.46835443037975,30.153846153846153,26.34285714285714,31.575757575757574,35.529411764705884,26.75,26.235294117647058,48.1,22.975,20.44736842105263,28.666666666666668,38.495049504950494,25.714285714285715,42.46153846153846,25.875,48.945945945945944,25.34285714285714,42.13496932515337,43.65882352941176,50.060344827586206,22.685185185185187,99.94285714285714,29.625,44.25268817204301,31.428571428571427,44.213592233009706,27.846153846153847,20.2,23.516129032258064,24.267857142857142,21.688524590163933,46.30769230769231,42.29943502824859,43.05882352941177,22.908045977011493,30.153333333333332,37.69892473118279,46.55128205128205,35.15094339622642,20.689655172413794,49.848101265822784,25.95,48.0,46.37894736842105,44.95,23.783783783783782,42.0625,34.36842105263158,33.37837837837838,21.074074074074073,59.23076923076923,25.428571428571427,47.63513513513514,45.74545454545454,30.434782608695652,31.28125,47.8936170212766,39.80612244897959,36.78048780487805,36.07692307692308,22.29230769230769,31.083333333333332,26.761904761904763,47.72941176470588,35.32432432432432,41.95959595959596,40.0,45.27329192546584,25.80851063829787,40.7906976744186,42.58373205741627,31.324074074074073,48.7,36.8,28.93548387096774,22.733333333333334,29.426666666666666,35.208333333333336,44.64179104477612,31.830188679245282,41.134328358208954,23.918367346938776,24.193548387096776,32.44871794871795,22.096774193548388,44.66225165562914,33.18604651162791,41.93103448275862,41.08888888888889,30.714285714285715,37.45,34.026666666666664,53.86363636363637,57.78417266187051,31.16216216216216,29.54700854700855,30.04054054054054,60.733333333333334,20.90625,39.6375,29.5,26.964285714285715,22.64516129032258,30.140350877192983,41.95238095238095,22.359550561797754,38.35294117647059,45.06666666666667,46.64321608040201,39.70454545454545,42.87735849056604,30.877551020408163,43.98876404494382,20.060606060606062,37.22727272727273,34.77142857142857,27.39622641509434,26.615384615384617,25.56338028169014,44.08045977011494,31.571428571428573,42.42063492063492,42.69060773480663,43.45871559633027,33.54838709677419,50.23529411764706,37.67045454545455,25.526315789473685,32.0,35.398148148148145,24.283783783783782,50.16477272727273,26.035714285714285,30.266666666666666,26.647058823529413,46.74285714285714,51.629629629629626,38.30555555555556,30.07894736842105,35.432432432432435,56.94736842105263,41.26027397260274,31.746268656716417,40.935483870967744,36.326530612244895,33.76190476190476,22.539473684210527,48.40127388535032,20.71794871794872,46.285714285714285,22.620689655172413,20.428571428571427,37.829787234042556,43.54237288135593,55.25523012552301,42.464285714285715,26.24590163934426,28.364864864864863,30.0,45.27058823529412,34.741379310344826,22.88888888888889,22.705882352941178,24.557377049180328,32.16393442622951,35.607142857142854,24.90909090909091,35.66197183098591,32.724137931034484,34.61538461538461,30.47142857142857,22.390243902439025,25.21875,37.57746478873239,26.0,29.151515151515152,52.57142857142857,22.05128205128205,26.18918918918919,29.884057971014492,31.806451612903224,49.088235294117645,33.2952380952381,57.407407407407405,41.0,21.232558139534884,25.0,33.48888888888889,48.26126126126126,58.672413793103445,37.41525423728814,25.76,21.48936170212766,25.193548387096776,34.58620689655172,30.711111111111112,26.813333333333333,47.28901734104046,36.975,27.087912087912088,37.42666666666667,25.7,50.99212598425197,39.90243902439025,30.790697674418606,28.17241379310345,56.67479674796748,32.86206896551724,34.15384615384615,40.810526315789474,40.56666666666667,43.5531914893617,31.642857142857142,46.10191082802548,26.03030303030303,42.50485436893204,45.03623188405797,32.8421052631579,63.43478260869565,46.06666666666667,32.6530612244898,38.28846153846154,57.294117647058826,37.697560975609754,34.58064516129032,22.279411764705884,43.49710982658959,34.9125,44.06936416184971,24.3,36.8125,45.36666666666667,28.4375,27.68421052631579,31.133333333333333,43.796992481203006,41.817708333333336,51.52892561983471,29.074074074074073,31.209302325581394,22.204301075268816,36.903225806451616,39.69047619047619,44.774193548387096,49.10795454545455,30.62121212121212,29.386363636363637,28.38095238095238,35.484848484848484,40.18627450980392,25.551724137931036,42.83870967741935,31.63888888888889,50.73529411764706,28.979166666666668,32.641666666666666,21.37037037037037,41.44202898550725,25.2,27.325581395348838,39.02127659574468,38.09375,32.05882352941177,31.304347826086957,33.473684210526315,33.48571428571429,30.544444444444444,35.556451612903224,42.84848484848485,31.770114942528735,38.92079207920792,25.192307692307693,46.625,24.00877192982456,37.649484536082475,30.115384615384617,52.291666666666664,37.10958904109589,28.552083333333332,40.857142857142854,38.092592592592595,36.775,39.17204301075269,25.23076923076923,25.892857142857142,30.983870967741936,37.18709677419355,31.05325443786982,24.181818181818183,45.557377049180324,37.39080459770115,37.023622047244096,24.033333333333335,28.703703703703702,42.13157894736842,32.58181818181818,23.966666666666665,32.0,23.545454545454547,34.8,26.90909090909091,47.473684210526315,31.133333333333333,27.06451612903226,42.979729729729726,46.77319587628866,40.56190476190476,25.44736842105263,40.91304347826087,32.659574468085104,35.53333333333333,46.23529411764706,31.942307692307693,38.166666666666664,42.5,28.5,26.9375,22.285714285714285,31.892857142857142,31.3,26.52777777777778,24.15,38.916666666666664,22.266666666666666,39.12,36.63414634146341,28.105882352941176,24.455555555555556,52.638888888888886,40.37931034482759,23.240506329113924,35.264150943396224,43.670103092783506,33.09375,47.534351145038165,39.5609756097561,44.3955223880597,46.81730769230769,42.490196078431374,27.1,28.318681318681318,31.70689655172414,60.972972972972975,46.54347826086956,25.12,33.758620689655174,35.794392523364486,31.38888888888889,36.714285714285715,46.84090909090909,23.055555555555557,48.41732283464567,21.041666666666668,28.015384615384615,38.76190476190476,40.013698630136986,31.944444444444443,26.12162162162162,29.4,29.272727272727273,22.03846153846154,51.85271317829457,36.38636363636363,35.595238095238095,25.1875,26.51824817518248,31.0,25.931818181818183,31.831460674157302,28.770833333333332,51.37229437229437,40.6140350877193,22.652173913043477,37.97222222222222,33.1875,29.071428571428573,30.903225806451612,29.375,36.04545454545455,33.26315789473684,42.175438596491226,27.125,27.236363636363638,34.31818181818182,63.05882352941177,48.21052631578947,26.482758620689655,32.38202247191011,27.346153846153847,51.121212121212125,45.03225806451613,47.60377358490566,36.93023255813954,32.31623931623932,35.69565217391305,27.04901960784314,30.083333333333332,27.933333333333334,40.06703910614525,62.84347826086957,53.78716216216216,35.198113207547166,51.0607476635514,34.89473684210526,40.07471264367816,26.916666666666668,37.14545454545455,35.81944444444444,45.52808988764045,43.696969696969695,27.05128205128205,30.467741935483872,31.583333333333332,36.397260273972606,36.51063829787234,26.395833333333332,39.40816326530612,31.289473684210527,35.148148148148145,44.34426229508197,34.56666666666667,27.16521739130435,29.214285714285715,30.75,30.313725490196077,31.666666666666668,29.74025974025974,26.823529411764707,27.548387096774192,23.0,29.8,34.465753424657535,40.985074626865675,41.96153846153846,29.285714285714285,21.864864864864863,31.26923076923077,26.136363636363637,48.767857142857146,44.38181818181818,42.34090909090909,38.64035087719298,62.625,37.98717948717949,29.627906976744185,26.782608695652176,40.66197183098591,35.82142857142857,53.629629629629626,24.346153846153847,49.43604651162791,21.107142857142858,24.04054054054054,54.2,47.65217391304348,37.84375,39.04938271604938,45.973821989528794,23.533333333333335,40.47540983606557,34.10526315789474,20.541666666666668,30.194805194805195,46.8235294117647,22.650793650793652,32.28260869565217,48.22727272727273,36.411764705882355,40.0,31.310344827586206,26.807692307692307,47.153153153153156,46.0,30.195121951219512,24.322834645669293,58.45967741935484,31.89090909090909,24.88888888888889,38.689189189189186,33.0126582278481,22.640625,36.166666666666664,33.458333333333336,32.41304347826087,52.05670103092783,33.92857142857143,44.796460176991154],\"type\":\"box\"}],                        {\"template\":{\"data\":{\"bar\":[{\"error_x\":{\"color\":\"#2a3f5f\"},\"error_y\":{\"color\":\"#2a3f5f\"},\"marker\":{\"line\":{\"color\":\"#E5ECF6\",\"width\":0.5},\"pattern\":{\"fillmode\":\"overlay\",\"size\":10,\"solidity\":0.2}},\"type\":\"bar\"}],\"barpolar\":[{\"marker\":{\"line\":{\"color\":\"#E5ECF6\",\"width\":0.5},\"pattern\":{\"fillmode\":\"overlay\",\"size\":10,\"solidity\":0.2}},\"type\":\"barpolar\"}],\"carpet\":[{\"aaxis\":{\"endlinecolor\":\"#2a3f5f\",\"gridcolor\":\"white\",\"linecolor\":\"white\",\"minorgridcolor\":\"white\",\"startlinecolor\":\"#2a3f5f\"},\"baxis\":{\"endlinecolor\":\"#2a3f5f\",\"gridcolor\":\"white\",\"linecolor\":\"white\",\"minorgridcolor\":\"white\",\"startlinecolor\":\"#2a3f5f\"},\"type\":\"carpet\"}],\"choropleth\":[{\"colorbar\":{\"outlinewidth\":0,\"ticks\":\"\"},\"type\":\"choropleth\"}],\"contour\":[{\"colorbar\":{\"outlinewidth\":0,\"ticks\":\"\"},\"colorscale\":[[0.0,\"#0d0887\"],[0.1111111111111111,\"#46039f\"],[0.2222222222222222,\"#7201a8\"],[0.3333333333333333,\"#9c179e\"],[0.4444444444444444,\"#bd3786\"],[0.5555555555555556,\"#d8576b\"],[0.6666666666666666,\"#ed7953\"],[0.7777777777777778,\"#fb9f3a\"],[0.8888888888888888,\"#fdca26\"],[1.0,\"#f0f921\"]],\"type\":\"contour\"}],\"contourcarpet\":[{\"colorbar\":{\"outlinewidth\":0,\"ticks\":\"\"},\"type\":\"contourcarpet\"}],\"heatmap\":[{\"colorbar\":{\"outlinewidth\":0,\"ticks\":\"\"},\"colorscale\":[[0.0,\"#0d0887\"],[0.1111111111111111,\"#46039f\"],[0.2222222222222222,\"#7201a8\"],[0.3333333333333333,\"#9c179e\"],[0.4444444444444444,\"#bd3786\"],[0.5555555555555556,\"#d8576b\"],[0.6666666666666666,\"#ed7953\"],[0.7777777777777778,\"#fb9f3a\"],[0.8888888888888888,\"#fdca26\"],[1.0,\"#f0f921\"]],\"type\":\"heatmap\"}],\"heatmapgl\":[{\"colorbar\":{\"outlinewidth\":0,\"ticks\":\"\"},\"colorscale\":[[0.0,\"#0d0887\"],[0.1111111111111111,\"#46039f\"],[0.2222222222222222,\"#7201a8\"],[0.3333333333333333,\"#9c179e\"],[0.4444444444444444,\"#bd3786\"],[0.5555555555555556,\"#d8576b\"],[0.6666666666666666,\"#ed7953\"],[0.7777777777777778,\"#fb9f3a\"],[0.8888888888888888,\"#fdca26\"],[1.0,\"#f0f921\"]],\"type\":\"heatmapgl\"}],\"histogram\":[{\"marker\":{\"pattern\":{\"fillmode\":\"overlay\",\"size\":10,\"solidity\":0.2}},\"type\":\"histogram\"}],\"histogram2d\":[{\"colorbar\":{\"outlinewidth\":0,\"ticks\":\"\"},\"colorscale\":[[0.0,\"#0d0887\"],[0.1111111111111111,\"#46039f\"],[0.2222222222222222,\"#7201a8\"],[0.3333333333333333,\"#9c179e\"],[0.4444444444444444,\"#bd3786\"],[0.5555555555555556,\"#d8576b\"],[0.6666666666666666,\"#ed7953\"],[0.7777777777777778,\"#fb9f3a\"],[0.8888888888888888,\"#fdca26\"],[1.0,\"#f0f921\"]],\"type\":\"histogram2d\"}],\"histogram2dcontour\":[{\"colorbar\":{\"outlinewidth\":0,\"ticks\":\"\"},\"colorscale\":[[0.0,\"#0d0887\"],[0.1111111111111111,\"#46039f\"],[0.2222222222222222,\"#7201a8\"],[0.3333333333333333,\"#9c179e\"],[0.4444444444444444,\"#bd3786\"],[0.5555555555555556,\"#d8576b\"],[0.6666666666666666,\"#ed7953\"],[0.7777777777777778,\"#fb9f3a\"],[0.8888888888888888,\"#fdca26\"],[1.0,\"#f0f921\"]],\"type\":\"histogram2dcontour\"}],\"mesh3d\":[{\"colorbar\":{\"outlinewidth\":0,\"ticks\":\"\"},\"type\":\"mesh3d\"}],\"parcoords\":[{\"line\":{\"colorbar\":{\"outlinewidth\":0,\"ticks\":\"\"}},\"type\":\"parcoords\"}],\"pie\":[{\"automargin\":true,\"type\":\"pie\"}],\"scatter\":[{\"marker\":{\"colorbar\":{\"outlinewidth\":0,\"ticks\":\"\"}},\"type\":\"scatter\"}],\"scatter3d\":[{\"line\":{\"colorbar\":{\"outlinewidth\":0,\"ticks\":\"\"}},\"marker\":{\"colorbar\":{\"outlinewidth\":0,\"ticks\":\"\"}},\"type\":\"scatter3d\"}],\"scattercarpet\":[{\"marker\":{\"colorbar\":{\"outlinewidth\":0,\"ticks\":\"\"}},\"type\":\"scattercarpet\"}],\"scattergeo\":[{\"marker\":{\"colorbar\":{\"outlinewidth\":0,\"ticks\":\"\"}},\"type\":\"scattergeo\"}],\"scattergl\":[{\"marker\":{\"colorbar\":{\"outlinewidth\":0,\"ticks\":\"\"}},\"type\":\"scattergl\"}],\"scattermapbox\":[{\"marker\":{\"colorbar\":{\"outlinewidth\":0,\"ticks\":\"\"}},\"type\":\"scattermapbox\"}],\"scatterpolar\":[{\"marker\":{\"colorbar\":{\"outlinewidth\":0,\"ticks\":\"\"}},\"type\":\"scatterpolar\"}],\"scatterpolargl\":[{\"marker\":{\"colorbar\":{\"outlinewidth\":0,\"ticks\":\"\"}},\"type\":\"scatterpolargl\"}],\"scatterternary\":[{\"marker\":{\"colorbar\":{\"outlinewidth\":0,\"ticks\":\"\"}},\"type\":\"scatterternary\"}],\"surface\":[{\"colorbar\":{\"outlinewidth\":0,\"ticks\":\"\"},\"colorscale\":[[0.0,\"#0d0887\"],[0.1111111111111111,\"#46039f\"],[0.2222222222222222,\"#7201a8\"],[0.3333333333333333,\"#9c179e\"],[0.4444444444444444,\"#bd3786\"],[0.5555555555555556,\"#d8576b\"],[0.6666666666666666,\"#ed7953\"],[0.7777777777777778,\"#fb9f3a\"],[0.8888888888888888,\"#fdca26\"],[1.0,\"#f0f921\"]],\"type\":\"surface\"}],\"table\":[{\"cells\":{\"fill\":{\"color\":\"#EBF0F8\"},\"line\":{\"color\":\"white\"}},\"header\":{\"fill\":{\"color\":\"#C8D4E3\"},\"line\":{\"color\":\"white\"}},\"type\":\"table\"}]},\"layout\":{\"annotationdefaults\":{\"arrowcolor\":\"#2a3f5f\",\"arrowhead\":0,\"arrowwidth\":1},\"autotypenumbers\":\"strict\",\"coloraxis\":{\"colorbar\":{\"outlinewidth\":0,\"ticks\":\"\"}},\"colorscale\":{\"diverging\":[[0,\"#8e0152\"],[0.1,\"#c51b7d\"],[0.2,\"#de77ae\"],[0.3,\"#f1b6da\"],[0.4,\"#fde0ef\"],[0.5,\"#f7f7f7\"],[0.6,\"#e6f5d0\"],[0.7,\"#b8e186\"],[0.8,\"#7fbc41\"],[0.9,\"#4d9221\"],[1,\"#276419\"]],\"sequential\":[[0.0,\"#0d0887\"],[0.1111111111111111,\"#46039f\"],[0.2222222222222222,\"#7201a8\"],[0.3333333333333333,\"#9c179e\"],[0.4444444444444444,\"#bd3786\"],[0.5555555555555556,\"#d8576b\"],[0.6666666666666666,\"#ed7953\"],[0.7777777777777778,\"#fb9f3a\"],[0.8888888888888888,\"#fdca26\"],[1.0,\"#f0f921\"]],\"sequentialminus\":[[0.0,\"#0d0887\"],[0.1111111111111111,\"#46039f\"],[0.2222222222222222,\"#7201a8\"],[0.3333333333333333,\"#9c179e\"],[0.4444444444444444,\"#bd3786\"],[0.5555555555555556,\"#d8576b\"],[0.6666666666666666,\"#ed7953\"],[0.7777777777777778,\"#fb9f3a\"],[0.8888888888888888,\"#fdca26\"],[1.0,\"#f0f921\"]]},\"colorway\":[\"#636efa\",\"#EF553B\",\"#00cc96\",\"#ab63fa\",\"#FFA15A\",\"#19d3f3\",\"#FF6692\",\"#B6E880\",\"#FF97FF\",\"#FECB52\"],\"font\":{\"color\":\"#2a3f5f\"},\"geo\":{\"bgcolor\":\"white\",\"lakecolor\":\"white\",\"landcolor\":\"#E5ECF6\",\"showlakes\":true,\"showland\":true,\"subunitcolor\":\"white\"},\"hoverlabel\":{\"align\":\"left\"},\"hovermode\":\"closest\",\"mapbox\":{\"style\":\"light\"},\"paper_bgcolor\":\"white\",\"plot_bgcolor\":\"#E5ECF6\",\"polar\":{\"angularaxis\":{\"gridcolor\":\"white\",\"linecolor\":\"white\",\"ticks\":\"\"},\"bgcolor\":\"#E5ECF6\",\"radialaxis\":{\"gridcolor\":\"white\",\"linecolor\":\"white\",\"ticks\":\"\"}},\"scene\":{\"xaxis\":{\"backgroundcolor\":\"#E5ECF6\",\"gridcolor\":\"white\",\"gridwidth\":2,\"linecolor\":\"white\",\"showbackground\":true,\"ticks\":\"\",\"zerolinecolor\":\"white\"},\"yaxis\":{\"backgroundcolor\":\"#E5ECF6\",\"gridcolor\":\"white\",\"gridwidth\":2,\"linecolor\":\"white\",\"showbackground\":true,\"ticks\":\"\",\"zerolinecolor\":\"white\"},\"zaxis\":{\"backgroundcolor\":\"#E5ECF6\",\"gridcolor\":\"white\",\"gridwidth\":2,\"linecolor\":\"white\",\"showbackground\":true,\"ticks\":\"\",\"zerolinecolor\":\"white\"}},\"shapedefaults\":{\"line\":{\"color\":\"#2a3f5f\"}},\"ternary\":{\"aaxis\":{\"gridcolor\":\"white\",\"linecolor\":\"white\",\"ticks\":\"\"},\"baxis\":{\"gridcolor\":\"white\",\"linecolor\":\"white\",\"ticks\":\"\"},\"bgcolor\":\"#E5ECF6\",\"caxis\":{\"gridcolor\":\"white\",\"linecolor\":\"white\",\"ticks\":\"\"}},\"title\":{\"x\":0.05},\"xaxis\":{\"automargin\":true,\"gridcolor\":\"white\",\"linecolor\":\"white\",\"ticks\":\"\",\"title\":{\"standoff\":15},\"zerolinecolor\":\"white\",\"zerolinewidth\":2},\"yaxis\":{\"automargin\":true,\"gridcolor\":\"white\",\"linecolor\":\"white\",\"ticks\":\"\",\"title\":{\"standoff\":15},\"zerolinecolor\":\"white\",\"zerolinewidth\":2}}},\"xaxis\":{\"showticklabels\":false},\"title\":{\"text\":\"Boxplot of Average Scores\"},\"yaxis\":{\"title\":{\"text\":\"Score\"}}},                        {\"responsive\": true}                    ).then(function(){\n",
       "                            \n",
       "var gd = document.getElementById('fb0ee3dd-890d-47f2-8c60-da70720c9805');\n",
       "var x = new MutationObserver(function (mutations, observer) {{\n",
       "        var display = window.getComputedStyle(gd).display;\n",
       "        if (!display || display === 'none') {{\n",
       "            console.log([gd, 'removed!']);\n",
       "            Plotly.purge(gd);\n",
       "            observer.disconnect();\n",
       "        }}\n",
       "}});\n",
       "\n",
       "// Listen for the removal of the full notebook cells\n",
       "var notebookContainer = gd.closest('#notebook-container');\n",
       "if (notebookContainer) {{\n",
       "    x.observe(notebookContainer, {childList: true});\n",
       "}}\n",
       "\n",
       "// Listen for the clearing of the current output cell\n",
       "var outputEl = gd.closest('.output');\n",
       "if (outputEl) {{\n",
       "    x.observe(outputEl, {childList: true});\n",
       "}}\n",
       "\n",
       "                        })                };                });            </script>        </div>"
      ]
     },
     "metadata": {},
     "output_type": "display_data"
    }
   ],
   "source": [
    "import plotly.express as px\n",
    "import plotly.graph_objects as go\n",
    "\n",
    "# Create the box plot using Plotly\n",
    "fig = go.Figure()\n",
    "\n",
    "fig.add_trace(go.Box(\n",
    "    y=Stats['Avg Score'],\n",
    "    name='Test Average',\n",
    "    boxpoints='outliers',\n",
    "    marker=dict(color='skyblue'),\n",
    "    line=dict(color='gray'),\n",
    "    boxmean='sd'\n",
    "))\n",
    "\n",
    "# Add outlier annotations\n",
    "outliers = Stats['Avg Score'][Stats['Avg Score'].apply(lambda x: x not in fig['data'][0]['y'])]\n",
    "for i, value in enumerate(outliers):\n",
    "    fig.add_annotation(\n",
    "        x=1,\n",
    "        y=value,\n",
    "        text=str(value),\n",
    "        showarrow=False,\n",
    "        font=dict(color='red'),\n",
    "    )\n",
    "\n",
    "# Set layout\n",
    "fig.update_layout(\n",
    "    title='Boxplot of Average Scores',\n",
    "    yaxis_title='Score',\n",
    "    xaxis=dict(showticklabels=False),\n",
    ")\n",
    "\n",
    "# Display the plot\n",
    "fig.show()\n"
   ]
  },
  {
   "cell_type": "code",
   "execution_count": 53,
   "id": "2f7be165",
   "metadata": {
    "scrolled": true
   },
   "outputs": [
    {
     "data": {
      "image/png": "[encoded data removed]",
      "text/plain": [
       "<Figure size 432x288 with 1 Axes>"
      ]
     },
     "metadata": {
      "needs_background": "light"
     },
     "output_type": "display_data"
    }
   ],
   "source": [
    "import scipy.stats as stats\n",
    "import matplotlib.pyplot as plt\n",
    "\n",
    "# Assuming 'Stats' is a pandas DataFrame and 'Avg Score' is a column in it\n",
    "avg_score = Stats['Avg Score']\n",
    "\n",
    "# Generating the Q-Q plot\n",
    "stats.probplot(avg_score, dist='norm', plot=plt)\n",
    "plt.xlabel('Theoretical Quantiles')\n",
    "plt.ylabel('Ordered Values')\n",
    "plt.title('Q-Q Plot of Average Score')\n",
    "plt.show()\n"
   ]
  },
  {
   "cell_type": "code",
   "execution_count": 54,
   "id": "731bc065",
   "metadata": {},
   "outputs": [],
   "source": [
    "Zscore=(Stats[Stats['Innings Player']=='DG Bradman']['Avg Score']-avg_score.mean())/avg_score.std()"
   ]
  },
  {
   "cell_type": "code",
   "execution_count": 55,
   "id": "d309d999",
   "metadata": {},
   "outputs": [
    {
     "data": {
      "text/plain": [
       "661    6.718867\n",
       "Name: Avg Score, dtype: float64"
      ]
     },
     "execution_count": 55,
     "metadata": {},
     "output_type": "execute_result"
    }
   ],
   "source": [
    "Zscore"
   ]
  },
  {
   "cell_type": "code",
   "execution_count": null,
   "id": "02372268",
   "metadata": {},
   "outputs": [],
   "source": []
  },
  {
   "cell_type": "code",
   "execution_count": null,
   "id": "7694679b",
   "metadata": {},
   "outputs": [],
   "source": []
  },
  {
   "cell_type": "code",
   "execution_count": null,
   "id": "d8301561",
   "metadata": {},
   "outputs": [],
   "source": []
  },
  {
   "cell_type": "code",
   "execution_count": null,
   "id": "e52e3d3a",
   "metadata": {},
   "outputs": [],
   "source": []
  },
  {
   "cell_type": "code",
   "execution_count": null,
   "id": "0db202d4",
   "metadata": {},
   "outputs": [],
   "source": []
  },
  {
   "cell_type": "code",
   "execution_count": null,
   "id": "6a83a0f9",
   "metadata": {},
   "outputs": [],
   "source": []
  },
  {
   "cell_type": "code",
   "execution_count": null,
   "id": "467bbba4",
   "metadata": {},
   "outputs": [],
   "source": []
  }
 ],
 "metadata": {
  "kernelspec": {
   "display_name": "Python 3 (ipykernel)",
   "language": "python",
   "name": "python3"
  },
  "language_info": {
   "codemirror_mode": {
    "name": "ipython",
    "version": 3
   },
   "file_extension": ".py",
   "mimetype": "text/x-python",
   "name": "python",
   "nbconvert_exporter": "python",
   "pygments_lexer": "ipython3",
   "version": "3.9.7"
  }
 },
 "nbformat": 4,
 "nbformat_minor": 5
}
